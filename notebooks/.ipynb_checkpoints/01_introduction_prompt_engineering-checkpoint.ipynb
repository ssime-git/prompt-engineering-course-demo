{
 "cells": [
  {
   "cell_type": "markdown",
   "id": "d56a42fc-61b5-4f13-8f32-026ab029f46d",
   "metadata": {},
   "source": [
    "# Introduction au Prompt Engineering\n",
    "\n",
    "## 1. Comprendre les modèles de langage et les bases du prompting\n",
    "\n",
    "### 1.1 Qu'est-ce qu'un modèle de langage ?\n",
    "\n",
    "Un modèle de langage est un système d'intelligence artificielle entraîné sur d'énormes quantités de textes pour apprendre les modèles statistiques du langage humain. Ces modèles peuvent générer du texte, répondre à des questions, résumer des informations, traduire des langues, et bien plus encore.\n",
    "\n",
    "Les modèles de langage récents comme `GPT-4`, `Claude` ou `Llama` fonctionnent selon un principe de prédiction : en se basant sur une séquence de mots donnée (le `prompt`), ils extrapolent les mots qui devraient suivre logiquement."
   ]
  },
  {
   "cell_type": "markdown",
   "id": "1f31ff1e-1717-4f4d-b4fd-e563e92c6f66",
   "metadata": {},
   "source": [
    "### 1.2 Qu'est-ce qu'un prompt ?\n",
    "\n",
    "Un prompt est simplement l'entrée textuelle que vous fournissez à un modèle de langage pour obtenir une réponse. C'est comme poser une question ou donner une instruction à l'IA.\n",
    "\n",
    "**Exemple simple :**\n",
    "\n",
    "```txt\n",
    "Explique-moi ce qu'est l'effet de serre en termes simples.\n",
    "```\n",
    "\n",
    "> Charger l'extension `jupyter_ai`, définissez le modèle `llama3.2` par défaut."
   ]
  },
  {
   "cell_type": "code",
   "execution_count": null,
   "id": "c65c9a56-5463-4eed-8c6e-4e11c5f54ed6",
   "metadata": {},
   "outputs": [],
   "source": []
  },
  {
   "cell_type": "code",
   "execution_count": 1,
   "id": "9de6f2a0-5e10-4303-84d2-5ea16871d179",
   "metadata": {},
   "outputs": [],
   "source": [
    "# Load the jupyter_ai_magics extension\n",
    "%load_ext jupyter_ai_magics\n",
    "\n",
    "# define llama3.2 as default\n",
    "%config AiMagics.default_language_model = \"ollama:llama3.2\""
   ]
  },
  {
   "cell_type": "markdown",
   "id": "6047e473-f7e9-475e-af4b-fbe8000bc670",
   "metadata": {},
   "source": [
    "> Utiliser le prompt : `Explique-moi ce qu'est l'effet de serre en termes simples.`"
   ]
  },
  {
   "cell_type": "code",
   "execution_count": null,
   "id": "68718cfa-9d9d-438d-8fa4-cc6453c2019b",
   "metadata": {},
   "outputs": [],
   "source": []
  },
  {
   "cell_type": "code",
   "execution_count": 3,
   "id": "2fd242be-b5a2-4f3c-9456-6a55d65effb6",
   "metadata": {},
   "outputs": [
    {
     "data": {
      "text/markdown": [
       "# Effet de Serre : Qu'est-ce que c'est ?\n",
       "\n",
       "L'effet de serre est un phénomène naturel qui se produit lorsque les gaz à effet de serre (GES) accumulent dans l'atmosphère terrestre, provoquant une augmentation de la température moyenne de la planète.\n",
       "\n",
       "### Quels sont les principaux GES ?\n",
       "\n",
       "Les principales causes de l'effet de serre sont :\n",
       "\n",
       "*   **Le dioxyde de carbone (CO2)** : Libéré par les émissions de transports, d'industrie et d'agriculture.\n",
       "*   **L'oxyde de soufre (SO2)** : Émis par les industries chimiques et thermiques.\n",
       "*   **Les huiles fossiles** : Tels que le charbon, le pétrole et le gaz naturel.\n",
       "\n",
       "### Comment fonctionne l'effet de serre ?\n",
       "\n",
       "1.  Les GES entrent dans l'atmosphère en provenance des activités humaines.\n",
       "2.  Ils s'assimilent aux plantes pour produire de la glucose, ce qui permet à ces dernières de croître et de se développer.\n",
       "3.  Les plantes émettent ensuite du dioxyde de carbone lorsqu'elles absorbent l'eau et le soleil pendant leur croissance.\n",
       "4.  Le dioxyde de carbone émis par les plantes s'accumule dans l'atmosphère, augmentant la quantité de GES présents.\n",
       "\n",
       "### Conséquences de l'effet de serre\n",
       "\n",
       "L'effet de serre a des conséquences importantes sur notre planète :\n",
       "\n",
       "*   **Le réchauffement climatique** : L'augmentation du CO2 dans l'atmosphère provoque une augmentation de la température moyenne de la Terre.\n",
       "*   **Les changements de précipitations** : Les tempêtes et les inondations deviennent plus fréquentes et plus intenses en raison du réchauffement climatique.\n",
       "\n",
       "En résumé, l'effet de serre est un phénomène complexe qui provoque une augmentation de la température moyenne de la planète. Les gaz à effet de serre sont émis par les activités humaines et s'assimilent aux plantes pour produire de la glucose. Il est essentiel de prendre des mesures pour réduire les émissions de GES afin de lutter contre le réchauffement climatique."
      ],
      "text/plain": [
       "<IPython.core.display.Markdown object>"
      ]
     },
     "execution_count": 3,
     "metadata": {
      "text/markdown": {
       "jupyter_ai": {
        "model_id": "llama3.2",
        "provider_id": "ollama"
       }
      }
     },
     "output_type": "execute_result"
    }
   ],
   "source": [
    "%%ai\n",
    "Explique-moi ce qu'est l'effet de serre en termes simples."
   ]
  },
  {
   "cell_type": "markdown",
   "id": "38d3656b-b332-40e4-9cc9-0c6c31f33d3c",
   "metadata": {},
   "source": [
    "Comment trouvez-vous ce prompt ? Est-ce qu'il correspond exactement à ce que vous vouliez / attendiez ?\n",
    "\n",
    "Si ce n'est pas le cas, c'est qu'il est très probable que votre instruction ne soit pas suffisamment détaillée et spécifique. Mais comment améliorer les chose ?"
   ]
  },
  {
   "cell_type": "markdown",
   "id": "eec96f98-0b39-4ee5-bc94-e505b761cef1",
   "metadata": {},
   "source": [
    "### 1.3 Les composants d'un bon prompt\n",
    "\n",
    "Un prompt efficace contient généralement :\n",
    "\n",
    "1. **Instructions claires** : Ce que vous voulez que le modèle fasse\n",
    "2. **Contexte** : Informations pertinentes pour aider le modèle\n",
    "3. **Format souhaité** : Structure de la réponse attendue\n",
    "4. **Exemples** (parfois) : Illustrations de ce que vous attendez\n",
    "5. **Tonalité** (parfois) : Le ton que vous souhaitez voir apparaitre\n",
    "6. **Personnage** (parfois) : Si vous voulez que le modèle se fonde dans la peau d'un personnage pour donner un style bien particulier\n",
    "\n",
    "**Exemple amélioré :**\n",
    "\n",
    "> **Maintenant, utilisez le prompt ci-dessous** et analysez la réponse :\n",
    "> \n",
    "> ```\n",
    "> Explique l'effet de serre en termes simples. \n",
    "> Inclus une analogie que je pourrais utiliser pour l'expliquer à un enfant de 8 ans. \n",
    "> Ta réponse ne doit pas dépasser 5 phrases.\n",
    "> ```"
   ]
  },
  {
   "cell_type": "code",
   "execution_count": null,
   "id": "13159fa4-ae8b-4157-883f-8805da42c174",
   "metadata": {},
   "outputs": [],
   "source": []
  },
  {
   "cell_type": "code",
   "execution_count": 4,
   "id": "0ffa9f6d-eade-42bb-a38b-6248addd439b",
   "metadata": {},
   "outputs": [
    {
     "data": {
      "text/markdown": [
       "# Effet de Serre : Qu'est-ce que c'est ?\n",
       "\n",
       "L'effet de serre est un phénomène naturel qui se produit lorsque les gaz à effet de serre (GES) accumulent dans l'atmosphère terrestre, provoquant une augmentation de la température moyenne de la planète.\n",
       "\n",
       "### Analogie\n",
       "\n",
       "Imagine que tu vas au parc et que tu as le thermos à cacao chaud. Tu vas le laisser dans ta poche pendant longtemps. La chaleur du thermos va se répartir et rendre moins froid ton parapluie. C'est un peu comme ce qui arrive avec l'effet de serre : les gaz à effet de serre entrent dans l'atmosphère, provoquant une augmentation de la température moyenne de la planète.\n",
       "\n",
       "### Conséquences de l'effet de serre\n",
       "\n",
       "L'effet de serre a des conséquences importantes sur notre planète :\n",
       "\n",
       "*   **Le réchauffement climatique** : L'augmentation du CO2 dans l'atmosphère provoque une augmentation de la température moyenne de la Terre.\n",
       "*   **Les changements de précipitations** : Les tempêtes et les inondations deviennent plus fréquentes et plus intenses en raison du réchauffement climatique.\n",
       "\n",
       "Il est essentiel de prendre des mesures pour réduire les émissions de GES afin de lutter contre le réchauffement climatique."
      ],
      "text/plain": [
       "<IPython.core.display.Markdown object>"
      ]
     },
     "execution_count": 4,
     "metadata": {
      "text/markdown": {
       "jupyter_ai": {
        "model_id": "llama3.2",
        "provider_id": "ollama"
       }
      }
     },
     "output_type": "execute_result"
    }
   ],
   "source": [
    "%%ai\n",
    "Explique l'effet de serre en termes simples. \n",
    "Inclus une analogie que je pourrais utiliser pour l'expliquer à un enfant de 8 ans. \n",
    "Ta réponse ne doit pas dépasser 5 phrases."
   ]
  },
  {
   "cell_type": "markdown",
   "id": "4fb78ad6-d33e-4293-b35f-e7a7cc76f693",
   "metadata": {},
   "source": [
    "> **A vous de jouer, essayer d'amméliorer le prompt ci-contre : `Donne-moi trois idées de desserts faciles à préparer.`**"
   ]
  },
  {
   "cell_type": "code",
   "execution_count": null,
   "id": "2a9d6ee3-cb58-4b0e-83d5-bd719b0035c4",
   "metadata": {},
   "outputs": [],
   "source": []
  },
  {
   "cell_type": "code",
   "execution_count": 6,
   "id": "5666c5cb-b80e-4944-8368-f03ac4781517",
   "metadata": {},
   "outputs": [
    {
     "data": {
      "text/markdown": [
       "Analyse : Vous demandez trois idées de desserts faciles à préparer qui :\n",
       "\n",
       "*   Nécessitent moins de 6 ingrédients\n",
       "*   Se préparent en moins de 20 minutes\n",
       "*   Ne nécessitent pas de four\n",
       "\n",
       "Pour répondre à votre demande, je n'ai besoin d'informations supplémentaires car ces exigences sont suffisamment spécifiques pour fournir des suggestions précises et efficaces.\n",
       "\n",
       "**Idées de desserts faciles à préparer**\n",
       "\n",
       "1.  **Tarte aux Fruits**\n",
       "    *   Ingrédients : Fruits (framboises, fraises, bleuets), crème fraîche, sucre, farine.\n",
       "    *   Temps de préparation : 10 minutes\n",
       "    *   Instruction : Préparez un mélange d'ingrédients et répartissez-le sur des tranches de pain grillé pour créer une base légère. Ajoutez du sucre en poudre et servez avec une touche de crème fraîche.\n",
       "2.  **Crêpes aux Fruits**\n",
       "    *   Ingrédients : Crêpes, fraise, framboise, miel, crème fraîche.\n",
       "    *   Temps de préparation : 8 minutes\n",
       "    *   Instruction : Préparez les crêpes suivant une recette rapide et servez-les avec une couche de fruits frais et un filet de miel et de crème fraîche.\n",
       "3.  **Salade aux Noix**\n",
       "    *   Ingrédients : Noix, yaourt, sucre, glace à la vanille, fleurs d'oranger.\n",
       "    *   Temps de préparation : 12 minutes\n",
       "    *   Instruction : Préparez une salade avec des noix et du yaourt mélangés. Ajoutez un filet de sucre en poudre et mélangez avec de la glace à la vanille pour créer une texture légère."
      ],
      "text/plain": [
       "<IPython.core.display.Markdown object>"
      ]
     },
     "execution_count": 6,
     "metadata": {
      "text/markdown": {
       "jupyter_ai": {
        "model_id": "llama3.2",
        "provider_id": "ollama"
       }
      }
     },
     "output_type": "execute_result"
    }
   ],
   "source": [
    "%%ai\n",
    "Je prépare un dîner pour des amis qui sont pressés par le temps.\n",
    "Donne-moi trois idées de desserts faciles à préparer qui :\n",
    "1. Nécessitent moins de 6 ingrédients\n",
    "2. Se préparent en moins de 20 minutes\n",
    "3. Ne nécessitent pas de four\n",
    "\n",
    "Pour chaque dessert, liste les ingrédients nécessaires, le temps de préparation et une courte instruction en une phrase.\n",
    "Format ta réponse sous forme de liste numérotée.\n",
    "Commence par analyser ma demande et me dire si tu manque d'information pour me répondre"
   ]
  },
  {
   "cell_type": "markdown",
   "id": "0bacc838-558f-42af-9878-c980f3c46b06",
   "metadata": {},
   "source": [
    "#### Comment trouvez-vous le résultat ?\n",
    "\n",
    "N'oubliez pas que vous pouvez toujours l'améliorer davantage et que le prompt ci-dessus n'est en aucun cas **le prompt** à utiliser à chaque fois."
   ]
  },
  {
   "cell_type": "markdown",
   "id": "6ab9cf87-8fed-4bdd-9413-017bba03ed42",
   "metadata": {},
   "source": [
    "### 1.3 Bonnes pratiques\n",
    "\n",
    "#### Commencer Simple\n",
    "\n",
    "Lorsque vous débutez dans la conception de prompts, gardez à l’esprit qu’il s’agit d’un **processus itératif** nécessitant de nombreuses expérimentations.\n",
    "\n",
    "- Utilisez un outil simple comme le *Playground* d’OpenAI ou Cohere.\n",
    "- Commencez avec un prompt simple, puis ajoutez du contexte au fur et à mesure.\n",
    "- La spécificité, la simplicité et la concision donnent souvent de meilleurs résultats.\n",
    "- En cas de tâche complexe, découpez-la en sous-tâches plus simples.\n",
    "\n",
    "\n",
    "#### L'Instruction\n",
    "\n",
    "Utilisez des **verbes d’action clairs** pour guider le modèle :  \n",
    "`Écris`, `Classe`, `Résume`, `Traduis`, `Ordonne`, etc.\n",
    "\n",
    "##### Bonnes pratiques\n",
    "\n",
    "- Expérimentez différents mots-clés, contextes et structures.\n",
    "- Placez l’instruction au début du prompt.\n",
    "- Utilisez un séparateur clair (`###`) pour distinguer l’instruction du contexte.\n",
    "\n",
    "##### Exemple\n",
    "\n",
    "```markdown\n",
    "### Instruction ###\n",
    "Traduis le texte ci-dessous en espagnol :\n",
    "Texte : \"hello!\"\n",
    "\n",
    "### Réponse ###\n",
    "¡Hola!\n",
    "```\n",
    "\n",
    "\n",
    "#### Spécificité\n",
    "\n",
    "Un prompt descriptif et précis produit généralement de meilleurs résultats.\n",
    "\n",
    "**Conseils:**\n",
    "* Fournissez des exemples si un format précis est attendu.\n",
    "* Faites attention à la longueur du prompt (évitez les détails superflus).\n",
    "* Assurez-vous que chaque détail sert la tâche demandée.\n",
    "\n",
    "**Exemple:**\n",
    "\n",
    "> Prompt : `Extrait le nom des lieux dans le texte suivant.`\n",
    "> \n",
    "> Format souhaité :\n",
    "> \n",
    "> Lieu : `<liste_de_lieux_séparés_par_des_virgules>`\n",
    "> \n",
    "> Texte : \"Henrique Veiga-Fernandes, neuroimmunologiste au Centre Champalimaud pour l’Inconnu à Lisbonne.\"\n",
    "\n",
    "**Réponse :**\n",
    "> Lieu : Centre Champalimaud pour l’Inconnu, Lisbonne\n",
    "\n",
    "\n",
    "#### Éviter l’Imprécision\n",
    "\n",
    "Il vaut mieux être simple et direct que vague ou trop abstrait.\n",
    "\n",
    "**Exemple:**\n",
    "\n",
    "> * Prompt flou : `Explique le concept de prompt engineering. Reste bref, sans trop de détails.`\n",
    "> * Prompt amélioré : `Explique le concept de prompt engineering en 2-3 phrases, comme si tu t’adressais à un lycéen.`\n",
    "\n",
    "#### Formulation Positive\n",
    "\n",
    "Évitez de formuler vos consignes en disant ce qu’il ne faut pas faire. Préférez indiquer ce qu’il faut faire.\n",
    "\n",
    "**Exemple:**\n",
    "\n",
    "```markdown\n",
    "Mauvais prompt : `L’agent recommande des films. NE DEMANDE PAS les préférences ni les infos personnelles.\n",
    "Client : Recommandez-moi un film.\n",
    "\n",
    "\n",
    "Meilleur prompt : L’agent recommande un film parmi les plus populaires dans le monde. Il ne doit pas demander les préférences ni d’informations personnelles.  \n",
    "S’il n’a rien à recommander, il répond : \"Désolé, je n’ai aucun film à recommander aujourd’hui.\"\n",
    "Client : Recommandez-moi un film.\n",
    "\n",
    "Réponse attendue\n",
    "\n",
    "Voici une sélection des films les plus populaires actuellement : [liste de films].\n",
    "\n",
    "\n",
    "\n",
    "\n"
   ]
  },
  {
   "cell_type": "markdown",
   "id": "fa8a0cb8-db2d-4ba2-9ae8-219317461c47",
   "metadata": {},
   "source": [
    "Résumé\n",
    "\t•\tCommencez simple, puis complexifiez avec des itérations.\n",
    "\t•\tSoyez spécifique, structuré et concis.\n",
    "\t•\tPréférez la formulation positive et donnez des exemples.\n",
    "\t•\tExpérimentez et ajustez régulièrement selon vos objectifs."
   ]
  }
 ],
 "metadata": {
  "kernelspec": {
   "display_name": "Python 3 (ipykernel)",
   "language": "python",
   "name": "python3"
  },
  "language_info": {
   "codemirror_mode": {
    "name": "ipython",
    "version": 3
   },
   "file_extension": ".py",
   "mimetype": "text/x-python",
   "name": "python",
   "nbconvert_exporter": "python",
   "pygments_lexer": "ipython3",
   "version": "3.11.6"
  }
 },
 "nbformat": 4,
 "nbformat_minor": 5
}
