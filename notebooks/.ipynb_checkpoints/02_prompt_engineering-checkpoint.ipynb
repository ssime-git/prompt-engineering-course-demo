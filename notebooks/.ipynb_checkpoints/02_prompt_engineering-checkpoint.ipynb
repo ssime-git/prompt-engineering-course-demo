{
 "cells": [
  {
   "cell_type": "markdown",
   "id": "2ed79c77-6b87-4f15-9481-8cb1f5a25aaf",
   "metadata": {},
   "source": [
    "# 2. Techniques de base du prompt engineering\n",
    "\n",
    "## 2.1 Zero-shot prompting\n",
    "\n",
    "Le `zero-shot` prompting consiste à demander au modèle d'effectuer une tâche sans lui fournir d'exemple préalable. Le modèle s'appuie uniquement sur ses connaissances préexistantes.\n",
    "\n",
    "**Exemple :**\n",
    "\n",
    "```txt\n",
    "Classifie ce commentaire client comme positif, négatif ou neutre :\n",
    "\"J'ai attendu 30 minutes pour être servi, mais la nourriture était délicieuse et le personnel s'est excusé pour l'attente.\"\n",
    "```\n",
    "\n",
    "> **Envoyer ce prompt au modèle**"
   ]
  },
  {
   "cell_type": "code",
   "execution_count": null,
   "id": "c5a6b29e-642b-4be3-89b8-a5d7a3fbbf69",
   "metadata": {},
   "outputs": [],
   "source": []
  },
  {
   "cell_type": "code",
   "execution_count": 20,
   "id": "4fe208d6-f41a-487c-97bd-a0e888d3ef78",
   "metadata": {
    "jupyter": {
     "source_hidden": true
    }
   },
   "outputs": [
    {
     "name": "stdout",
     "output_type": "stream",
     "text": [
      "The jupyter_ai_magics extension is already loaded. To reload it, use:\n",
      "  %reload_ext jupyter_ai_magics\n"
     ]
    }
   ],
   "source": [
    "# Load the jupyter_ai_magics extension\n",
    "%load_ext jupyter_ai_magics\n",
    "\n",
    "# define llama3.2 as default\n",
    "%config AiMagics.default_language_model = \"ollama:llama3.2\""
   ]
  },
  {
   "cell_type": "code",
   "execution_count": 21,
   "id": "4fa0e20d-0bc3-46eb-aa58-f7984178450d",
   "metadata": {},
   "outputs": [
    {
     "data": {
      "text/markdown": [
       "Ce commentaire est **positif**.\n",
       "\n",
       "Pour comprendre pourquoi, voici les raisons clés :\n",
       "\n",
       "*   Le client mentionne que la nourriture était \"délicieuse\", ce qui montre une satisfaction pour le repas.\n",
       "*   Bien qu'il ait eu à attendre 30 minutes, le personnel s'est excusé. Cette excuse exprime la volonté du personnel de s'excuser et d'avoir un comportement proactif envers l'attente.\n",
       "*   Bien que le temps d'attente soit plus long, le client ne mentionne pas de frustration ou de mécontentement évident.\n",
       "\n",
       "Ces points démontrent qu'à même face à une attente prolongée, le client a apprécié la qualité du repas et l'établissement a montré un comportement proactif pour répondre à la situation."
      ],
      "text/plain": [
       "<IPython.core.display.Markdown object>"
      ]
     },
     "execution_count": 21,
     "metadata": {
      "text/markdown": {
       "jupyter_ai": {
        "model_id": "llama3.2",
        "provider_id": "ollama"
       }
      }
     },
     "output_type": "execute_result"
    }
   ],
   "source": [
    "%%ai\n",
    "Classifie ce commentaire client comme positif, négatif ou neutre :\n",
    "\"J'ai attendu 30 minutes pour être servi, mais la nourriture était délicieuse et le personnel s'est excusé pour l'attente.\""
   ]
  },
  {
   "cell_type": "markdown",
   "id": "e449fa04-339a-44e2-8aa6-7949a7054469",
   "metadata": {},
   "source": [
    "> **Comment trouvez-vous la réponse ?**\n",
    "> **Analysez le résultat et essayer d'autres prompts pour insister sur ce qui vous intéresse.**\n",
    "\n",
    "### Exercice 1 :\n",
    "\n",
    "> **En utilisant une variable `article` pour enregistrer le texte ci-dessous, Utiliser la technique du `zéro-shot` pour résumer le texte ci-dessous :**\n",
    "\n",
    "```txt\n",
    "L'intelligence artificielle générative bouleverse de nombreux secteurs, de la création de contenu à la programmation. \n",
    "OpenAI a récemment dévoilé GPT-5, un modèle multimodal capable d'analyser des images, de générer du code et de \n",
    "résoudre des problèmes complexes avec un raisonnement proche de celui des humains. Cependant, des préoccupations \n",
    "éthiques émergent concernant les biais, la désinformation et l'impact sur l'emploi. Des chercheurs du MIT ont \n",
    "proposé un cadre réglementaire pour encadrer ces technologies, tandis que l'UE finalise l'AI Act. Parallèlement, \n",
    "Google et Anthropic investissent massivement dans la sécurité de l'IA pour prévenir les usages malveillants.\n",
    "```"
   ]
  },
  {
   "cell_type": "code",
   "execution_count": 22,
   "id": "f67c735b-b5f5-4f8f-9dad-45f9afc9abea",
   "metadata": {},
   "outputs": [],
   "source": [
    "article = \"\"\"\n",
    "L'intelligence artificielle générative bouleverse de nombreux secteurs, de la création de contenu à la programmation. \n",
    "OpenAI a récemment dévoilé GPT-5, un modèle multimodal capable d'analyser des images, de générer du code et de \n",
    "résoudre des problèmes complexes avec un raisonnement proche de celui des humains. Cependant, des préoccupations \n",
    "éthiques émergent concernant les biais, la désinformation et l'impact sur l'emploi. Des chercheurs du MIT ont \n",
    "proposé un cadre réglementaire pour encadrer ces technologies, tandis que l'UE finalise l'AI Act. Parallèlement, \n",
    "Google et Anthropic investissent massivement dans la sécurité de l'IA pour prévenir les usages malveillants.\n",
    "\"\"\""
   ]
  },
  {
   "cell_type": "code",
   "execution_count": null,
   "id": "cebd2bc6-9ea6-432c-898d-da6c57fc9414",
   "metadata": {},
   "outputs": [],
   "source": [
    "## Entrer votre prompt ici"
   ]
  },
  {
   "cell_type": "code",
   "execution_count": 23,
   "id": "9fb57f32-3202-4f73-8800-e5d110aab0e2",
   "metadata": {},
   "outputs": [
    {
     "data": {
      "text/markdown": [
       "Les trois points clés sont :\n",
       "\n",
       "*   L'intelligence artificielle générative continue d'évoluer, avec des technologies comme GPT-5 qui peuvent analyser des images, \n",
       "    générer du code et résoudre des problèmes complexes.\n",
       "*   Des préoccupations éthiques émergent autour des biais, de la désinformation et de l'impact sur l'emploi en raison de ces \n",
       "    avancées en intelligence artificielle.\n",
       "*   Les réglementaires et les entreprises investissent dans la sécurité de l'intelligence artificielle pour prévenir les usages malveillants.\n",
       "\n",
       "Il est important de noter que ces points clés se réfèrent à des sujets importants liés à l'avenir de l'intelligence artificielle, mais nécessitent une discussion et un examen attentif pour mieux comprendre leurs implications."
      ],
      "text/plain": [
       "<IPython.core.display.Markdown object>"
      ]
     },
     "execution_count": 23,
     "metadata": {
      "text/markdown": {
       "jupyter_ai": {
        "model_id": "llama3.2",
        "provider_id": "ollama"
       }
      }
     },
     "output_type": "execute_result"
    }
   ],
   "source": [
    "%%ai\n",
    "Résume l'article suivant en 3 points clés principaux, chacun exprimé en une seule phrase concise.\n",
    "Article : {article}"
   ]
  },
  {
   "cell_type": "markdown",
   "id": "12276e8a-2d34-4fcf-acd7-f6331f226658",
   "metadata": {},
   "source": [
    "## 2.2 Few-shot prompting\n",
    "\n",
    "Le `few-shot` prompting consiste à fournir quelques exemples au modèle avant de lui demander d'effectuer une tâche similaire.\n",
    "\n",
    "**Exemple :**\n",
    "\n",
    "```txt\n",
    "Voici quelques exemples de classification de sentiments :\n",
    "\n",
    "Texte : \"Ce film était absolument incroyable !\"\n",
    "Sentiment : Positif\n",
    "\n",
    "Texte : \"Le service client est totalement inefficace.\"\n",
    "Sentiment : Négatif\n",
    "\n",
    "Texte : \"Le produit est arrivé à l'heure prévue.\"\n",
    "Sentiment : Neutre\n",
    "\n",
    "Maintenant, classifie ce texte :\n",
    "\"La qualité est correcte mais le prix est un peu élevé pour ce que c'est.\"\n",
    "```"
   ]
  },
  {
   "cell_type": "code",
   "execution_count": 27,
   "id": "340b86ee-3ec9-40f0-821f-c5b687f8ac8a",
   "metadata": {},
   "outputs": [
    {
     "data": {
      "text/markdown": [
       "Néutre"
      ],
      "text/plain": [
       "<IPython.core.display.Markdown object>"
      ]
     },
     "execution_count": 27,
     "metadata": {
      "text/markdown": {
       "jupyter_ai": {
        "model_id": "llama3.2",
        "provider_id": "ollama"
       }
      }
     },
     "output_type": "execute_result"
    }
   ],
   "source": [
    "%%ai\n",
    "Voici quelques exemples de classification de sentiments :\n",
    "\n",
    "Texte : \"Ce film était absolument incroyable !\"\n",
    "Sentiment : Positif\n",
    "\n",
    "Texte : \"Le service client est totalement inefficace.\"\n",
    "Sentiment : Négatif\n",
    "\n",
    "Texte : \"Le produit est arrivé à l'heure prévue.\"\n",
    "Sentiment : Neutre\n",
    "\n",
    "Maintenant, classifie ce texte sans me donner de justifications (je veux juste la classification):\n",
    "Texte : \"La qualité est correcte mais le prix est un peu élevé pour ce que c'est.\"\n",
    "Sentiment : "
   ]
  },
  {
   "cell_type": "markdown",
   "id": "1fb3f34b-92cd-4492-8b36-c6680fd65fc9",
   "metadata": {},
   "source": [
    "> **Analyse : Comment trouvez-vous cette réponse ?**\n",
    "\n",
    "### Exercice 2 :\n",
    "\n",
    "> **Créez un prompt `few-shot` pour apprendre au modèle à transformer la phrase suivante du langage formel en langage familier. Incluez 2-3 exemples puis demandez une transformation pour une nouvelle phrase.**\n",
    "\n",
    "```txt\n",
    "Suite à notre entretien téléphonique, je me permets de vous adresser les documents contractuels comme convenu.\n",
    "````"
   ]
  },
  {
   "cell_type": "code",
   "execution_count": null,
   "id": "8fd88593-0d34-4d5b-ae9c-d46afe002532",
   "metadata": {},
   "outputs": [],
   "source": []
  },
  {
   "cell_type": "code",
   "execution_count": 8,
   "id": "94828873-bd83-48d0-a1ff-cbdfdc3b48e4",
   "metadata": {},
   "outputs": [
    {
     "data": {
      "text/markdown": [
       "Apres l'appel, laisse-moi juste te passer les papiers, d'accord ?"
      ],
      "text/plain": [
       "<IPython.core.display.Markdown object>"
      ]
     },
     "execution_count": 8,
     "metadata": {
      "text/markdown": {
       "jupyter_ai": {
        "model_id": "llama3.2",
        "provider_id": "ollama"
       }
      }
     },
     "output_type": "execute_result"
    }
   ],
   "source": [
    "%%ai\n",
    "Je voudrais que tu transformes des phrases du langage formel en langage familier. \n",
    "Voici quelques exemples :\n",
    "\n",
    "Phrase formelle : \"Je vous serais reconnaissant de me communiquer votre décision dans les plus brefs délais.\"\n",
    "Phrase familière : \"Fais-moi savoir rapidement ce que tu décides, ok ?\"\n",
    "\n",
    "Phrase formelle : \"Il serait judicieux de reconsidérer notre stratégie à la lumière des récents développements.\"\n",
    "Phrase familière : \"Vu ce qui vient de se passer, on devrait revoir notre plan, non ?\"\n",
    "\n",
    "Phrase formelle : \"Nous vous prions de nous excuser pour ce désagrément et vous assurons que des mesures ont été prises.\"\n",
    "Phrase familière : \"Désolé pour la galère, t'inquiète, on a réglé le problème !\"\n",
    "\n",
    "Maintenant, transforme cette phrase formelle en langage familier sans donner d'explication et sans titre:\n",
    "\"Suite à notre entretien téléphonique, je me permets de vous adresser les documents contractuels comme convenu.\""
   ]
  },
  {
   "cell_type": "markdown",
   "id": "b53d8165-8abc-4208-a2ec-71ead1bdf9fa",
   "metadata": {},
   "source": [
    "L'approche few-shot a permis au modèle d'apprendre le style de transformation souhaité grâce aux exemples fournis, ce qui lui permet de produire une réponse qui suit le même schéma de transformation."
   ]
  },
  {
   "cell_type": "markdown",
   "id": "0ba95081-c416-4030-9750-c7e951a3bb68",
   "metadata": {},
   "source": [
    "## 2.3 Chain-of-Thought (Chaîne de pensée)\n",
    "\n",
    "La technique `Chain-of-Thought` encourage le modèle à décomposer un problème complexe en étapes de raisonnement intermédiaires avant de donner la réponse finale.\n",
    "\n",
    "**Exemple :**\n",
    "\n",
    "```txt\n",
    "Question : Un stylo et un cahier coûtent ensemble 11 euros. Le stylo coûte 10 euros de moins que le cahier. Combien coûte le cahier ?\n",
    "\n",
    "Réfléchis étape par étape pour trouver la réponse.\n",
    "```"
   ]
  },
  {
   "cell_type": "code",
   "execution_count": 10,
   "id": "afdb3159-312b-4925-b8b1-1747d2f09536",
   "metadata": {},
   "outputs": [
    {
     "data": {
      "text/markdown": [
       "### Étapes pour résoudre le problème\n",
       "\n",
       "#### Étape 1 : Définir les variables\n",
       "* x = coût du cahier en euros\n",
       "* y = coût du stylo en euros\n",
       "\n",
       "#### Étape 2 : Comprendre les informations données\n",
       "* Le stylo coûte 10 euros de moins que le cahier, donc y = x - 10.\n",
       "* Un stylo et un cahier coûtent ensemble 11 euros, donc x + y = 11.\n",
       "\n",
       "#### Étape 3 : Établir l'équation\n",
       "* En insérant la première équation dans la deuxième équation, nous obtenons :\n",
       "x + (x - 10) = 11\n",
       "\n",
       "#### Étape 4 : Résoudre l'équation\n",
       "* x + x - 10 = 11\n",
       "* 2x - 10 = 11\n",
       "* 2x = 21\n",
       "* x = 10,5\n",
       "\n",
       "#### Étape 5 : Considérer le résultat\n",
       "Le cahier coûte 10,5 euros."
      ],
      "text/plain": [
       "<IPython.core.display.Markdown object>"
      ]
     },
     "execution_count": 10,
     "metadata": {
      "text/markdown": {
       "jupyter_ai": {
        "model_id": "llama3.2",
        "provider_id": "ollama"
       }
      }
     },
     "output_type": "execute_result"
    }
   ],
   "source": [
    "%%ai\n",
    "Question : Un stylo et un cahier coûtent ensemble 11 euros. \n",
    "Le stylo coûte 10 euros de moins que le cahier. \n",
    "Combien coûte le cahier ?\n",
    "Réfléchis étape par étape pour trouver la réponse."
   ]
  },
  {
   "cell_type": "markdown",
   "id": "844dc5c2-d601-4702-8ad5-df1e59c2d3e7",
   "metadata": {},
   "source": [
    "**⚠️⚠️⚠️ : C'est précisément sur les questions qui demandent de raisonnement qu'il faut particulièrement faire attention aux réponses données par les modèles de langage.**\n",
    "\n",
    "Il est toujours recommandé de relire et de valider les réponses données pour l'IA avant utilisation.\n",
    "\n",
    "### Exercice 3 :\n",
    "Créez un prompt qui utilise la technique `Chain-of-Thought` pour résoudre un problème de logique ou de mathématiques de votre choix.\n",
    "\n",
    "```txt\n",
    "Dans une bibliothèque, le rayon fiction contient 3 fois plus de livres que le rayon histoire. \n",
    "Le rayon sciences contient 50 livres de moins que le rayon fiction. \n",
    "Si la bibliothèque contient au total 550 livres dans ces trois rayons, combien de livres y a-t-il dans chaque rayon ?\n",
    "````"
   ]
  },
  {
   "cell_type": "code",
   "execution_count": null,
   "id": "15d0f0b3-caf6-452c-9831-704cbae5c362",
   "metadata": {},
   "outputs": [],
   "source": []
  },
  {
   "cell_type": "code",
   "execution_count": 12,
   "id": "4bd2a9e4-81eb-47c7-adb0-c28497a958bf",
   "metadata": {},
   "outputs": [
    {
     "data": {
      "text/markdown": [
       "### Étapes pour résoudre le problème\n",
       "\n",
       "#### Étape 1 : Comprendre le problème\n",
       "Nous avons trois informations clés :\n",
       "* Le rayon fiction contient 3 fois plus de livres que le rayon histoire.\n",
       "* Le rayon sciences contient 50 livres de moins que le rayon fiction.\n",
       "* La bibliothèque contient au total 550 livres dans les trois rayons.\n",
       "\n",
       "#### Étape 2 : Définir les variables\n",
       "Pour simplifier la résolution, nous allons utiliser des variables pour représenter le nombre de livres dans chaque rayon :\n",
       "* x = nombre de livres dans le rayon fiction\n",
       "* y = nombre de livres dans le rayon histoire\n",
       "* z = nombre de livres dans le rayon sciences\n",
       "\n",
       "#### Étape 3 : Comprendre les relations entre les variables\n",
       "Nous avons deux relations clés :\n",
       "* Le rayon fiction contient 3 fois plus de livres que le rayon histoire, donc x = 3y.\n",
       "* Le rayon sciences contient 50 livres de moins que le rayon fiction, donc z = x - 50.\n",
       "\n",
       "#### Étape 4 : Établir l'équation\n",
       "Nous savons que la bibliothèque contient au total 550 livres dans les trois rayons. Nous allons utiliser cette information pour établir une équation :\n",
       "x + y + z = 550\n",
       "\n",
       "#### Étape 5 : Remplacer les relations par des variables dans l'équation\n",
       "Nous allons remplacer les expressions pour x et z en termes de y dans l'équation :\n",
       "* x = 3y (en fonction du premier rapport)\n",
       "* z = x - 50 (en fonction du deuxième rapport)\n",
       "\n",
       "Remplaçons ces expressions par x et z dans l'équation : \n",
       "3 ans + y + (3 ans - 50) = 550\n",
       "\n",
       "#### Étape 6 : Simplifier l'équation\n",
       "Combinez des termes similaires :\n",
       "* 3y + y + 3y - 50 = 550\n",
       "* 5 ans - 50 = 550\n",
       "* 5 ans = 600\n",
       "\n",
       "#### Étape 7 : Résoudre pour y\n",
       "Divisez les deux côtés de l'équation par 5 :\n",
       "* y = 600/5\n",
       "* y = 120\n",
       "\n",
       "#### Étape 8 : Résoudre pour x\n",
       "Remplacez la valeur de y dans l'expression pour x :\n",
       "* x = 3 ans\n",
       "* x = 3(120)\n",
       "* x = 360\n",
       "\n",
       "#### Étape 9 : Résoudre pour z\n",
       "Remplacez les valeurs de x dans l'expression pour z :\n",
       "* z = x - 50\n",
       "* z = 360 - 50\n",
       "* z = 310\n",
       "\n",
       "#### Étape 10 : Considérer les résultats\n",
       "* Le rayon fiction contient 360 livres.\n",
       "* Le rayon histoire contient 120 livres.\n",
       "* Le rayon sciences contient 310 livres."
      ],
      "text/plain": [
       "<IPython.core.display.Markdown object>"
      ]
     },
     "execution_count": 12,
     "metadata": {
      "text/markdown": {
       "jupyter_ai": {
        "model_id": "llama3.2",
        "provider_id": "ollama"
       }
      }
     },
     "output_type": "execute_result"
    }
   ],
   "source": [
    "%%ai\n",
    "Résous ce problème en expliquant ton raisonnement étape par étape en prenant ton temps :\n",
    "Dans une bibliothèque, le rayon fiction contient 3 fois plus de livres que le rayon histoire. \n",
    "Le rayon sciences contient 50 livres de moins que le rayon fiction. \n",
    "Si la bibliothèque contient au total 550 livres dans ces trois rayons, \n",
    "combien de livres y a-t-il dans chaque rayon ?"
   ]
  },
  {
   "cell_type": "markdown",
   "id": "63884036-2577-478f-9f37-a68490fe9016",
   "metadata": {},
   "source": [
    "On peut clairement voir la limite des petits modèles de langage... Est-ce qu'on peut demander au modèle de s'améliorer ?"
   ]
  },
  {
   "cell_type": "code",
   "execution_count": 15,
   "id": "294bff49-441a-4638-aeed-be6e64b34555",
   "metadata": {},
   "outputs": [
    {
     "data": {
      "text/markdown": [
       "### Étape 1 : Comprendre le problème\n",
       "Nous avons trois informations clés :\n",
       "* Le rayon fiction contient 3 fois plus de livres que le rayon histoire.\n",
       "* Le rayon sciences contient 50 livres de moins que le rayon fiction.\n",
       "* La bibliothèque contient au total 550 livres dans les trois rayons.\n",
       "\n",
       "### Étape 2 : Définir les variables\n",
       "Pour simplifier la résolution, nous allons utiliser des variables pour représenter le nombre de livres dans chaque rayon :\n",
       "* x = nombre de livres dans le rayon fiction\n",
       "* y = nombre de livres dans le rayon histoire\n",
       "* z = nombre de livres dans le rayon sciences\n",
       "\n",
       "### Étape 3 : Comprendre les relations entre les variables\n",
       "Nous avons deux relations clés :\n",
       "* Le rayon fiction contient 3 fois plus de livres que le rayon histoire, donc x = 3y.\n",
       "* Le rayon sciences contient 50 livres de moins que le rayon fiction, donc z = x - 50.\n",
       "\n",
       "### Étape 4 : Établir l'équation\n",
       "Nous savons que la bibliothèque contient au total 550 livres dans les trois rayons. Nous allons utiliser cette information pour établir une équation :\n",
       "x + y + z = 550\n",
       "\n",
       "### Étape 5 : Remplacer les relations par des variables dans l'équation\n",
       "Remplacez x et z en termes de y dans l'équation :\n",
       "* x = 3y (en fonction du premier rapport)\n",
       "* z = x - 50 (en fonction du deuxième rapport)\n",
       "\n",
       "Remplaçons ces expressions par x et z dans l'équation : \n",
       "3 ans + y + (3 ans - 50) = 550\n",
       "\n",
       "### Étape 6 : Simplifier l'équation\n",
       "Combinez des termes similaires :\n",
       "* 5y + 50 = 550\n",
       "\n",
       "### Étape 7 : Résoudre pour y\n",
       "Soustrayez 50 des deux côtés de l'équation :\n",
       "5 ans = 500\n",
       "\n",
       "Divisez les deux côtés de l'équation par 5 :\n",
       "*y = 100*\n",
       "\n",
       "### Étape 8 : Résoudre pour x\n",
       "Remplacez la valeur de y dans l'expression pour x :\n",
       "* x = 3 ans\n",
       "* x = 3(100)\n",
       "* x = 300\n",
       "\n",
       "### Étape 9 : Résoudre pour z\n",
       "Remplacez les valeurs de x dans l'expression pour z :\n",
       "* z = x - 50\n",
       "* z = 300 - 50\n",
       "* z = 250\n",
       "\n",
       "### Conclusion\n",
       "La réponse finale est :\n",
       "Rayon fiction : 300 livres\n",
       "Rayon histoire : 100 livres\n",
       "Rayon sciences : 250 livres.\n",
       "\n",
       "Verdict final : La réponse du modèle était incorrecte. Les réponses correctes sont que le rayon fiction contient 300 livres, le rayon histoire contient 100 livres et le rayon sciences contient 250 livres."
      ],
      "text/plain": [
       "<IPython.core.display.Markdown object>"
      ]
     },
     "execution_count": 15,
     "metadata": {
      "text/markdown": {
       "jupyter_ai": {
        "model_id": "llama3.2",
        "provider_id": "ollama"
       }
      }
     },
     "output_type": "execute_result"
    }
   ],
   "source": [
    "%%ai\n",
    "Suite au prompt suivant\n",
    "--\n",
    "{In[12]}\n",
    "--\n",
    "Le modèle a donné comme réponse\n",
    "--\n",
    "{Out[12]}\n",
    "--\n",
    "Mais cette réponse semble érronée (à partir de cette equation 3 ans + y + (3 ans - 50)). \n",
    "Corrige la réponse et donne un verdict final"
   ]
  },
  {
   "cell_type": "markdown",
   "id": "67640616-a81d-4f64-ac3b-cd915ac5f8f1",
   "metadata": {},
   "source": [
    "## 2.4 Generated Knowledge (Connaissance générée)\n",
    "\n",
    "Cette approche demande d'abord au modèle de générer des connaissances pertinentes sur un sujet avant de répondre à une question spécifique.\n",
    "\n",
    "**Exemple :**\n",
    "\n",
    "```txt\n",
    "Étape 1 : Génère les faits importants à connaître sur la photosynthèse.\n",
    "\n",
    "Étape 2 : En utilisant ces informations, explique pourquoi les feuilles des plantes sont généralement vertes.\n",
    "```\n",
    "\n",
    "### Exercice 4 :\n",
    "\n",
    "> **Créez un prompt à deux étapes utilisant la technique `Generated Knowledge` pour expliquer un phénomène scientifique des aurores boréales.**"
   ]
  },
  {
   "cell_type": "code",
   "execution_count": 28,
   "id": "944bcb2c-02bb-4ef9-8adb-c879577e8b3b",
   "metadata": {},
   "outputs": [
    {
     "data": {
      "text/markdown": [
       "# Photosynthèse et couleur des feuilles\n",
       "\n",
       "## Étape 1 : Générer les faits importants à connaître sur la photosynthèse\n",
       "\n",
       "* La photosynthèse est le processus par lequel les plantes, les algues et certaines bactéries convertissent l'énergie lumineuse du soleil en énergie chimique.\n",
       "* Le processus de photosynthèse implique la fixation de dioxyde de carbone (CO2) et d'eau (H2O) pour produire glucose et oxygène (O2).\n",
       "* La lumière solaire est essentielle à la photosynthèse, car elle permet la conversion du CO2 en glucose.\n",
       "\n",
       "## Étape 2 : Expliquer pourquoi les feuilles des plantes sont généralement vertes\n",
       "\n",
       "* Les feuilles sont des structures spécialisées qui contiennent de nombreuses chloroplastes, qui sont responsables de la photosynthèse.\n",
       "* Les chloroplastes contiennent une molécule appelée chlorophyll, qui est responsable de l'absorption de la lumière solaire et de la conversion du CO2 en glucose.\n",
       "* La chlorophyll est présente dans les feuilles des plantes pour maximiser leur capacité à effectuer la photosynthèse.\n",
       "* C'est pourquoi les feuilles des plantes sont généralement vertes, car le chlorophyll absorbe la lumière solaire et donne une couleur verte au tissu."
      ],
      "text/plain": [
       "<IPython.core.display.Markdown object>"
      ]
     },
     "execution_count": 28,
     "metadata": {
      "text/markdown": {
       "jupyter_ai": {
        "model_id": "llama3.2",
        "provider_id": "ollama"
       }
      }
     },
     "output_type": "execute_result"
    }
   ],
   "source": [
    "%%ai\n",
    "Étape 1 : Génère les faits importants à connaître sur la photosynthèse.\n",
    "Étape 2 : En utilisant ces informations, explique pourquoi les feuilles des plantes sont généralement vertes."
   ]
  },
  {
   "cell_type": "code",
   "execution_count": 16,
   "id": "7adff702-571a-4aef-aa3f-a7987d7acf41",
   "metadata": {},
   "outputs": [
    {
     "data": {
      "text/markdown": [
       "**Étape 1 : Liste de faits importants sur la formation des aurores boréales**\n",
       "\n",
       "* Les aurores boréales sont causées par l'interaction entre les particules chargées du vent solaire et l'ionosphère terrestre.\n",
       "* L'ionosphère est une couche d'atmosphère qui contient des ions et des électrons libres.\n",
       "* Le vent solaire est composé de particules chargées, notamment des électrons et des protons.\n",
       "* Lorsque le vent solaire rencontre l'ionosphère terrestre, les particules chargées sont accélérées vers la surface de la Terre.\n",
       "* Les particules chargées atteignant la surface de la Terre créent une lumière à ultraviolet, qui est ensuite convertie en lumière visible par l'atmosphère.\n",
       "* La couleur des aurores boréales dépend de la longueur d'onde de la lumière et du type de particules chargées présentes dans le vent solaire.\n",
       "\n",
       "**Étape 2 : Explication des raisons pour lesquelles les aurores boréales sont principalement visibles près des pôles**\n",
       "\n",
       "* Les aurores boréales sont principalement visibles près des pôles de la Terre parce que l'ionosphère terrestre est plus épaisse et plus dense dans ces régions.\n",
       "* La densité accrue de l'ionosphère permet une interaction plus efficace entre le vent solaire et les particules chargées, ce qui conduit à des aurores boréales plus intense et plus visible.\n",
       "* Les pôles sont également les endroits où le vent solaire est le plus fort, ce qui accélère les particules chargées et augmente la luminosité des aurores.\n",
       "\n",
       "**Explication des raisons pour lesquelles les aurores boréales présentent différentes couleurs**\n",
       "\n",
       "* Les aurores boréales peuvent présenter différentes couleurs en fonction de la longueur d'onde de la lumière et du type de particules chargées présentes dans le vent solaire.\n",
       "* La couleur bleue est généralement associée à une longueur d'onde plus courte, ce qui correspond aux électrons libres dans l'ionosphère terrestre.\n",
       "* La couleur verte est associée à une longueur d'onde intermédiaire, ce qui correspond aux ions et les particules chargées présentes dans le vent solaire.\n",
       "* La couleur rouge est généralement associée à une longueur d'onde plus longue, ce qui correspond aux particules chargées lourdes, comme les protons.\n",
       "\n",
       "En résumé, les aurores boréales sont principalement visibles près des pôles de la Terre en raison de la densité accrue de l'ionosphère et de la force du vent solaire. Les différentes couleurs des aurores boréales dépendent de la longueur d'onde de la lumière et du type de particules chargées présentes dans le vent solaire."
      ],
      "text/plain": [
       "<IPython.core.display.Markdown object>"
      ]
     },
     "execution_count": 16,
     "metadata": {
      "text/markdown": {
       "jupyter_ai": {
        "model_id": "llama3.2",
        "provider_id": "ollama"
       }
      }
     },
     "output_type": "execute_result"
    }
   ],
   "source": [
    "%%ai\n",
    "Étape 1 : Génère une liste de faits importants sur la formation des aurores boréales, \n",
    "en te concentrant sur les mécanismes physiques qui les produisent.\n",
    "\n",
    "Étape 2 : En utilisant ces connaissances, explique pourquoi les aurores boréales \n",
    "sont principalement visibles près des pôles de la Terre et pourquoi elles présentent différentes couleurs."
   ]
  },
  {
   "cell_type": "markdown",
   "id": "5e990490-cbbe-4d67-bbd1-6416b8dbdc6f",
   "metadata": {},
   "source": [
    "> **Que faut-il faire immédiatement après avoir lu cette réponse ?**"
   ]
  },
  {
   "cell_type": "markdown",
   "id": "86f568b2-7b32-4535-b1d5-2d3aa9eac06a",
   "metadata": {},
   "source": [
    "## 2.5 Least-to-Most (Du plus simple au plus complexe)\n",
    "\n",
    "Cette technique décompose un problème complexe en sous-problèmes plus simples, qui sont résolus séquentiellement.\n",
    "\n",
    "**Exemple :**\n",
    "```\n",
    "Problème : Une bibliothèque a 5 étagères avec 8 livres par étagère. Si on retire 7 livres et qu'on ajoute 12 nouveaux livres répartis équitablement, combien y aura-t-il de livres par étagère ?\n",
    "\n",
    "Sous-problème 1 : Combien y a-t-il de livres au total initialement ?\n",
    "Sous-problème 2 : Combien y aura-t-il de livres après avoir retiré 7 livres et ajouté 12 nouveaux ?\n",
    "Sous-problème 3 : Si ces livres sont répartis équitablement sur 5 étagères, combien y aura-t-il de livres par étagère ?\n",
    "```"
   ]
  },
  {
   "cell_type": "code",
   "execution_count": 17,
   "id": "a392a247-6899-423c-8d08-9b2a296faed1",
   "metadata": {},
   "outputs": [
    {
     "data": {
      "text/markdown": [
       "**Problème**\n",
       "\n",
       "Il y a 5 étagères avec 8 livres par étagère.\n",
       "Si on retire 7 livres et qu'on ajoute 12 nouveaux livres répartis équitablement, combien y aura-t-il de livres par étagère ?\n",
       "\n",
       "### Sous-problème 1 : Combien y a-t-il de livres au total initialement ?\n",
       "\n",
       "* Nombre d'étagères = 5\n",
       "* Nombre de livres par étagère = 8\n",
       "* Total de livres initiaux = Nombre d'étagères × Nombre de livres par étagère\n",
       "= 5 × 8\n",
       "= 40\n",
       "\n",
       "### Sous-problème 2 : Combien y aura-t-il de livres après avoir retiré 7 livres et ajouté 12 nouveaux ?\n",
       "\n",
       "* Total de livres initiaux = 40\n",
       "* Livres retirés = 7\n",
       "* Nouveau total = Total de livres initiaux - Livres retirés + 12 nouveaux livres\n",
       "= 40 - 7 + 12\n",
       "= 45\n",
       "\n",
       "### Sous-problème 3 : Si ces livres sont répartis équitablement sur 5 étagères, combien y aura-t-il de livres par étagère ?\n",
       "\n",
       "* Nouveau total = 45\n",
       "* Nombre d'étagères = 5\n",
       "* Livres par étagère = Nouveau total ÷ Nombre d'étagères\n",
       "= 45 ÷ 5\n",
       "= 9\n",
       "\n",
       "**Conclusion**\n",
       "\n",
       "Il y aura 9 livres par étagère après avoir retiré 7 livres et ajouté 12 nouveaux."
      ],
      "text/plain": [
       "<IPython.core.display.Markdown object>"
      ]
     },
     "execution_count": 17,
     "metadata": {
      "text/markdown": {
       "jupyter_ai": {
        "model_id": "llama3.2",
        "provider_id": "ollama"
       }
      }
     },
     "output_type": "execute_result"
    }
   ],
   "source": [
    "%%ai\n",
    "Problème : Une bibliothèque a 5 étagères avec 8 livres par étagère. Si on retire 7 livres et qu'on ajoute 12 nouveaux livres répartis équitablement, combien y aura-t-il de livres par étagère ?\n",
    "\n",
    "Sous-problème 1 : Combien y a-t-il de livres au total initialement ?\n",
    "Sous-problème 2 : Combien y aura-t-il de livres après avoir retiré 7 livres et ajouté 12 nouveaux ?\n",
    "Sous-problème 3 : Si ces livres sont répartis équitablement sur 5 étagères, combien y aura-t-il de livres par étagère ?"
   ]
  },
  {
   "cell_type": "markdown",
   "id": "e338ebb8-c44b-4b2b-9f2b-039c4778e733",
   "metadata": {},
   "source": [
    "On peut également utiliser la formulation suivante : `Je vais te présenter un problème complexe. Décompose-le en sous-problèmes plus simples, puis résous-les un par un pour arriver à la solution finale`"
   ]
  },
  {
   "cell_type": "markdown",
   "id": "17b4d450-c174-455f-985c-7a63067120bd",
   "metadata": {},
   "source": [
    "# Exercice\n",
    "\n",
    "Technique : `zero-shot`"
   ]
  },
  {
   "cell_type": "code",
   "execution_count": 29,
   "id": "30aee837-1b6c-46e4-a7ab-7396904b80f0",
   "metadata": {},
   "outputs": [
    {
     "data": {
      "text/markdown": [
       "# Savon solide \"Fraîcheur Matinale\"\n",
       "\n",
       "**Introduction**\n",
       "\n",
       "Débutez votre journée avec un sentiment de fraîcheur et de bien-être, sans compromettre votre amour pour l'écologie. Notre savon solide \"Fraîcheur Matinale\" est conçu pour vous apporter une nettoyage douce et efficace, tout en respectant l'environnement.\n",
       "\n",
       "**Caractéristiques techniques**\n",
       "\n",
       "* Composition : huile d'olive bio, huile de coco, huile essentielle de menthe poivrée\n",
       "* Poids : 100g\n",
       "* Prix : 8,90€\n",
       "* Durée d'utilisation moyenne : 1 mois\n",
       "\n",
       "**Bénéfices pour la peau et l'environnement**\n",
       "\n",
       "Notre savon solide est formé sans sulfates, ce qui signifie qu'il est doux sur votre peau et respectueux de l'écosystème. Il nettoie en douceur, en eliminant les impuretés sans laisser de résidus nocifs. De plus, notre produit génère zéro déchet à la fin de sa vie.\n",
       "\n",
       "**Conseils d'utilisation**\n",
       "\n",
       "Pour maximiser les bienfaits de votre savon solide \"Fraîcheur Matinale\", appliquez-le après l'eau et séchez-vous doucement pour éviter les érasères. N'oubliez pas de conserver le produit à une température constante pour prolonger sa durée d'utilisation.\n",
       "\n",
       "**Découvrez notre savon solide \"Fraîcheur Matinale\"**\n",
       "\n",
       " Achetez maintenant et commencez votre journée avec un sentiment de fraîcheur et de bien-être écologique !"
      ],
      "text/plain": [
       "<IPython.core.display.Markdown object>"
      ]
     },
     "execution_count": 29,
     "metadata": {
      "text/markdown": {
       "jupyter_ai": {
        "model_id": "llama3.2",
        "provider_id": "ollama"
       }
      }
     },
     "output_type": "execute_result"
    }
   ],
   "source": [
    "%%ai\n",
    "Rédige une fiche produit professionnelle et persuasive pour un savon solide écologique avec les caractéristiques suivantes :\n",
    "- Nom : Savon solide \"Fraîcheur Matinale\"\n",
    "- Composition : huile d'olive bio, huile de coco, huile essentielle de menthe poivrée\n",
    "- Bénéfices : nettoie en douceur, formule sans sulfates, zéro déchet\n",
    "- Poids : 100g\n",
    "- Prix : 8,90€\n",
    "- Durée d'utilisation moyenne : 1 mois\n",
    "\n",
    "La fiche doit inclure :\n",
    "1. Une introduction attractive qui met en valeur l'aspect écologique et les sensations de fraîcheur\n",
    "2. Une section détaillant les caractéristiques techniques du produit\n",
    "3. Une section sur les bénéfices pour la peau et pour l'environnement\n",
    "4. Un paragraphe de conseils d'utilisation\n",
    "5. Un appel à l'action incitant à l'achat\n",
    "\n",
    "Ton de communication : naturel, enthousiaste mais pas exagéré\n",
    "Public cible : consommateurs soucieux de l'écologie, 25-45 ans\n",
    "Longueur : environ 200 mots"
   ]
  },
  {
   "cell_type": "code",
   "execution_count": 30,
   "id": "d5f215d3-b6dc-422b-b572-5b2b080808fa",
   "metadata": {},
   "outputs": [
    {
     "data": {
      "text/markdown": [
       "**Plan détaillé : Comment fonctionnent les panneaux solaires ?**\n",
       "\n",
       "I. Introduction au potentiel des panneaux solaires\n",
       "  A. L'énergie solaire : un élément clé de l'écologie\n",
       "  B. Les avantages du chauffage solaire\n",
       "\n",
       "II. Principe scientifique de base\n",
       "  A. La conversion lumineuse en électricité\n",
       "  B. Le rôle des semi-conducteurs et des photovoltaïques\n",
       "\n",
       "III. Composants et fonctionnement des panneaux solaires\n",
       "  A. Les cellules photovoltaïques : composantes fondamentales\n",
       "  B. Les matériaux utilisés pour les panneaux solaires\n",
       "  C. Le montage et la connexion des panneaux\n",
       "\n",
       "IV. L'installation et l'utilisation pratique\n",
       "  A. Choix du site et études préliminaires\n",
       "  B. Étapes de construction d'un système solaire\n",
       "  C. L'entretien régulier et les réparations courantes\n",
       "\n",
       "V. Avantages et limites des panneaux solaires\n",
       "  A. Les bénéfices environnementaux et économiques\n",
       "  B. Les défis techniques et les coûts d'installation\n",
       "  C. Les résolutions pour améliorer l'efficacité et la rentabilité\n",
       "\n",
       "VI. L'avenir de l'énergie solaire\n",
       "  A. Les innovations en matière de technologie\n",
       "  B. Le rôle des panneaux solaires dans les plans énergétiques futurs"
      ],
      "text/plain": [
       "<IPython.core.display.Markdown object>"
      ]
     },
     "execution_count": 30,
     "metadata": {
      "text/markdown": {
       "jupyter_ai": {
        "model_id": "llama3.2",
        "provider_id": "ollama"
       }
      }
     },
     "output_type": "execute_result"
    }
   ],
   "source": [
    "%%ai\n",
    "Je souhaite créer un plan détaillé pour un article de blog intitulé \"Comment fonctionnent les panneaux solaires : guide simple pour les débutants\". \n",
    "L'article est destiné à un public non-spécialiste qui s'intéresse aux énergies renouvelables.\n",
    "\n",
    "Voici deux exemples de plans d'articles bien structurés sur des sujets similaires :\n",
    "\n",
    "Exemple 1 : Article sur l'éolien\n",
    "I. Introduction au potentiel de l'énergie éolienne\n",
    "II. Les principes physiques de l'éolienne\n",
    "   A. La conversion de l'énergie cinétique en électricité\n",
    "   B. Les différents types d'éoliennes\n",
    "III. L'installation d'une éolienne\n",
    "   A. Choix du site et études préliminaires\n",
    "   B. Étapes de construction\n",
    "IV. Avantages et inconvénients des éoliennes\n",
    "V. L'avenir de l'énergie éolienne\n",
    "\n",
    "Exemple 2 : Article sur les voitures électriques\n",
    "I. La révolution des voitures électriques\n",
    "II. Comment fonctionne un moteur électrique\n",
    "   A. Les composants essentiels\n",
    "   B. Du courant électrique à la force motrice\n",
    "III. L'autonomie et la recharge\n",
    "   A. Types de batteries\n",
    "   B. Infrastructures de recharge\n",
    "IV. Impact environnemental : mythes et réalités\n",
    "V. Les innovations attendues dans les 5 prochaines années\n",
    "\n",
    "En suivant une structure similaire, génère un plan détaillé pour mon article sur les panneaux solaires. Le plan doit :\n",
    "- Inclure une introduction accrocheuse\n",
    "- Expliquer les principes scientifiques de base de façon simple\n",
    "- Détailler les composants et le fonctionnement des panneaux\n",
    "- Aborder l'installation et l'utilisation pratique\n",
    "- Présenter les avantages et limites\n",
    "- Évoquer les perspectives d'avenir\n",
    "\n",
    "Utilise exactement le même format de numérotation (chiffres romains pour les sections principales, lettres pour les sous-sections)."
   ]
  },
  {
   "cell_type": "markdown",
   "id": "c76a472f-aaf7-476a-b5eb-486df1948524",
   "metadata": {},
   "source": [
    "# Fin exercice"
   ]
  },
  {
   "cell_type": "code",
   "execution_count": 18,
   "id": "2e0c0c18-d3c6-40a1-9f4c-1c732d9765d6",
   "metadata": {},
   "outputs": [
    {
     "data": {
      "text/markdown": [
       "**Étape 1 : Décomposition du problème**\n",
       "\n",
       "* Nous avons 8 joueurs qui s'affrontent dans un tournoi d'échecs.\n",
       "* Chaque joueur joue exactement une fois contre chacun des autres joueurs.\n",
       "* Les scores finaux des joueurs forment une suite arithmétique.\n",
       "* Nous voulons trouver le score du joueur arrivé en 3ème position.\n",
       "\n",
       "### Sous-problème 1 : Quel est le nombre de parties jouées ?\n",
       "\n",
       "Puisque chaque joueur joue exactement une fois contre chacun des autres joueurs, on peut calculer le nombre de parties jouées comme suit :\n",
       "\n",
       "* Chaque joueur joue 7 parties (puisqu'il y a 8 joueurs et qu'il ne joue pas lui-même).\n",
       "* Il y a 8 joueurs, donc au total, il y aura : \n",
       "$ \\frac{(8)(7)}{2} = 28 $ parties jouées.\n",
       "\n",
       "### Sous-problème 2 : Quelle est la différence commune de la suite arithmétique des scores ?\n",
       "\n",
       "Notons le score du joueur arrivé en 1ère position par $a$, celui en 2ème position par $a+d$ et ainsi de suite. Puisque les scores forment une suite arithmétique, la différence commune est la même pour tous les termes.\n",
       "\n",
       "### Sous-problème 3 : Quel est le score du joueur arrivé en 1ère position ?\n",
       "\n",
       "Puisque chaque partie comporte un gagnant et un perdant, nous pouvons attribuer des scores à chaque partie :\n",
       "\n",
       "* Pour chacune des 28 parties jouées, on attribue 1 point au gagnant et 0 points au perdant.\n",
       "\n",
       "### Sous-problème 4 : Combien de points gagnés par le joueur arrivé en 1ère position ?\n",
       "\n",
       "* Le joueur arrivé en 1ère position a joué contre tous les autres joueurs.\n",
       "* Il y a 7 autres joueurs, donc il a joué contre eux 6 fois.\n",
       "* S'il a gagné chacune de ces parties, il obtiendra 6 points supplémentaires à son score initial.\n",
       "\n",
       "### Sous-problème 5 : Combien de points gagnés par le joueur arrivé en 2ème position ?\n",
       "\n",
       "* Le joueur arrivé en 2ème position a joué contre le joueur arrivé en 1ère position.\n",
       "* S'il a gagné cette partie, il obtiendra 0 point supplémentaire à son score initial.\n",
       "\n",
       "### Sous-problème 6 : Combien de points gagnés par le joueur arrivé en 3ème position ?\n",
       "\n",
       "* Le joueur arrivé en 3ème position a joué contre les deux premiers joueurs.\n",
       "* S'il a gagné chacune de ces parties, il obtiendra 1 point supplémentaire à son score initial.\n",
       "\n",
       "### Sous-problème 7 : Calcul du score du joueur arrivé en 3ème position\n",
       "\n",
       "Puisque nous connaissons le nombre total de points et que nous savons que les scores forment une suite arithmétique, nous pouvons calculer le score du joueur arrivé en 3ème position.\n",
       "\n",
       "En utilisant les informations du Sous-problème 4, nous pouvons établir l'équation :\n",
       "\n",
       "a + d + (a+d) + ... + a + 6d = 28\n",
       "\n",
       "Simplifiant l'équation, on obtient:\n",
       "\n",
       "8a + 7d = 22\n",
       "\n",
       "En résolvant la première équation pour 'a', nous obtenons:\n",
       "\n",
       "une = (11 - 3d)/4\n",
       "\n",
       "En substituant cette expression dans l'équation du Sous-problème 6, nous obtenons :\n",
       "\n",
       "une + d + une + d + (7-2d) = 28\n",
       "\n",
       "Simplifiant l'équation, on obtient:\n",
       "\n",
       "une + 5d = 24\n",
       "\n",
       "En remplaçant la valeur de 'a' par l'équation du Sous-problème 1, nous obtenons :\n",
       "\n",
       "(11 - 3d)/4 + 5d = 24\n",
       "\n",
       "En résolvant pour d, on obtient :\n",
       "\n",
       "-7/2\n",
       "\n",
       "La réponse est donc:\n",
       "\n",
       "une + d + (une + d) + ... + une + 6d = 28\n",
       "a + 1d + a + 1d + 3d = 28\n",
       "2a + 5d = 24\n",
       "une = (11 - 7/2)/4\n",
       "= 11/8\n",
       "\n",
       "Le score du joueur arrivé en 3ème position est donc :\n",
       "\n",
       "Score = une + d + ... + une + 6d\n",
       "= (11-7/2)/4 + d + (11-7/2)/4 + 2d + (11-7/2)/4 + 3d + (11-7/2)/4 + 4d + (11-7/2)/4 + 5d + (11-7/2)/4 + 6d\n",
       "= 11*8/4 - 21/8\n",
       "= 16"
      ],
      "text/plain": [
       "<IPython.core.display.Markdown object>"
      ]
     },
     "execution_count": 18,
     "metadata": {
      "text/markdown": {
       "jupyter_ai": {
        "model_id": "llama3.2",
        "provider_id": "ollama"
       }
      }
     },
     "output_type": "execute_result"
    }
   ],
   "source": [
    "%%ai\n",
    "Je vais te présenter un problème complexe. Décompose-le en sous-problèmes plus simples, puis résous-les un par un pour arriver à la solution finale.\n",
    "\n",
    "Problème : \n",
    "Dans un tournoi d'échecs, 8 joueurs s'affrontent selon un système où chaque joueur joue exactement une fois contre chacun des autres joueurs. \n",
    "Pour chaque partie, le gagnant reçoit 1 point, le perdant 0 point, et en cas de match nul, chaque joueur reçoit 0,5 point.\n",
    "\n",
    "À la fin du tournoi, les scores finaux des joueurs sont tous différents et forment une suite arithmétique. \n",
    "Quel est le score du joueur arrivé en 3ème position ?\n",
    "\n",
    "Résous ce problème étape par étape."
   ]
  },
  {
   "cell_type": "markdown",
   "id": "c91db825-5f21-40f7-80bd-bb2097ae63f6",
   "metadata": {},
   "source": [
    "**Une fois de plus, le modèle n'est pas suffisamment puissant pour y arriver.**"
   ]
  },
  {
   "cell_type": "markdown",
   "id": "5fdc397d-9ddf-4151-baa5-b1e620adb2f9",
   "metadata": {},
   "source": [
    "## 2.6 Self-Refine (Auto-amélioration)\n",
    "\n",
    "Cette technique consiste à demander au modèle de générer une première réponse, puis de la critiquer et de l'améliorer.\n",
    "\n",
    "**Exemple :**\n",
    "\n",
    "```txt\n",
    "Étape 1 : Écris un court paragraphe expliquant comment fonctionne un moteur à combustion interne.\n",
    "\n",
    "Étape 2 : Identifie les points faibles de ton explication précédente. Qu'est-ce qui pourrait être clarifié ou amélioré ?\n",
    "\n",
    "Étape 3 : Réécris l'explication en tenant compte de ces améliorations.\n",
    "```\n",
    "\n",
    "### Exercice 5 :\n",
    "\n",
    "Créez un prompt qui utilise la technique Self-Refine pour générer puis améliorer un texte explicatif sur un sujet de votre choix.\n",
    "\n",
    "```txt\n",
    "Je vais te demander d'utiliser la technique Self-Refine pour expliquer un concept scientifique.\n",
    "\n",
    "Étape 1 : Écris un court paragraphe (environ 5 phrases) expliquant comment fonctionne l'apprentissage automatique (machine learning) pour un public non-technique.\n",
    "\n",
    "Étape 2 : Critique ton explication précédente. Identifie au moins 3 problèmes spécifiques : imprécisions, jargon trop technique, analogies confuses, manque de contexte, etc.\n",
    "\n",
    "Étape 3 : Réécris une explication améliorée qui corrige les problèmes identifiés à l'étape 2.\n",
    "\n",
    "Étape 4 : Évalue si la nouvelle explication est meilleure que la première et explique pourquoi.\n",
    "```"
   ]
  },
  {
   "cell_type": "code",
   "execution_count": 19,
   "id": "dd5ba4a5-65ff-4151-b1b0-e0b5ed9485ea",
   "metadata": {},
   "outputs": [
    {
     "data": {
      "text/markdown": [
       "**Étape 1 : Explication initiale**\n",
       "\n",
       "L'apprentissage automatique (machine learning) est un domaine de l'intelligence artificielle qui permet aux ordinateurs d'aller mieux en compréhendant les données. Il s'agit d'enseigner à une machine à apprendre à faire des prédictions sur le comportement ou la tendance des données, sans avoir besoin de spécifier exactement comment faire. Les machines learning utilisent des algorithmes qui analysent les données et identifient des modèles pour prédire ce qui se passera ensuite. Cela peut être très utile dans divers domaines, tels que la reconnaissance vocale, la reconnaissance d'images ou le recommandation de produits. L'apprentissage automatique est essentiellement une méthode pour faire de l'intelligence artificielle plus intelligente.\n",
       "\n",
       "**Étape 2 : Critique de l'explication initiale**\n",
       "\n",
       "L'explication initiale présente plusieurs problèmes :\n",
       "\n",
       "*   **Précisions fausses**: L'expression « faire des prédictions sur le comportement ou la tendance des données » est vague et ne rend pas compte de ce que signifie effectivement « prédire ». Les machines learning prennent souvent en compte des informations supplémentaires comme les modèles statistiques ou les algorithmes d'apprentissage.\n",
       "*   **Jargon technique excessif**: L'utilisation de termes tels que « intelligence artificielle » et « algorithmes » peut être trop complexe pour un public non-technique. Il est important de simplifier l'explication tout en maintenant la clarté.\n",
       "*   **Analogies confuses**: La comparaison entre les machines learning et le fait de « faire des prédictions » n'est pas pertinente. Les machines learning ne font pas des « prédictions », mais plutôt des généralisations basées sur des modèles récursifs.\n",
       "\n",
       "**Étape 3 : Explication améliorée**\n",
       "\n",
       "L'apprentissage automatique (machine learning) est une technique qui permet aux ordinateurs d'améliorer leur performance en fonction des données qu'ils reçoivent. En effet, ils peuvent apprendre à reconnaître des modèles ou des tendances dans les données pour prendre des décisions plus précises. Cela se fait en entraînant un modèle de machine sur une base de données, qui est ensuite capable de prédire ce que pourrait être la réponse à une question donnée.\n",
       "\n",
       "Imaginez que vous essayiez de deviner le type de voiture que votre ami va acheter sur la base de ses habitudes d'achat. Vous pouvez utiliser des données précédentes pour identifier les modèles et prendre une décision plus probable. De même, les machines learning peuvent apprendre à faire de bonnes réponses en fonction de données, ce qui peut être très utile dans divers domaines comme la reconnaissance vocale ou la recommandation de produits.\n",
       "\n",
       "**Étape 4 : Évaluation**\n",
       "\n",
       "L'explication améliorée est meilleure que l'explication initiale. Les problèmes identifiés à l'étape 2 ont été corrigés :\n",
       "\n",
       "*   L'explication est plus précise en expliquant clairement ce qu'est l'apprentissage automatique et comment cela fonctionne.\n",
       "*   Le langage utilisé est plus simple, tout en gardant la complexité nécessaire pour expliquer le concept scientifique de manière pertinente.\n",
       "*   Les analogies utilisées sont plus pertinentes et simplifient davantage la compréhension du sujet.\n",
       "\n",
       "Cependant, il est important de continuer à améliorer l'explication, en y ajoutant des exemples concrets ou des démonstrations visuelles pour illustrer le concept d'apprentissage automatique."
      ],
      "text/plain": [
       "<IPython.core.display.Markdown object>"
      ]
     },
     "execution_count": 19,
     "metadata": {
      "text/markdown": {
       "jupyter_ai": {
        "model_id": "llama3.2",
        "provider_id": "ollama"
       }
      }
     },
     "output_type": "execute_result"
    }
   ],
   "source": [
    "%%ai\n",
    "Je vais te demander d'utiliser la technique Self-Refine pour expliquer un concept scientifique.\n",
    "\n",
    "Étape 1 : Écris un court paragraphe (environ 5 phrases) expliquant comment fonctionne l'apprentissage automatique (machine learning) pour un public non-technique.\n",
    "\n",
    "Étape 2 : Critique ton explication précédente. Identifie au moins 3 problèmes spécifiques : imprécisions, jargon trop technique, analogies confuses, manque de contexte, etc.\n",
    "\n",
    "Étape 3 : Réécris une explication améliorée qui corrige les problèmes identifiés à l'étape 2.\n",
    "\n",
    "Étape 4 : Évalue si la nouvelle explication est meilleure que la première et explique pourquoi."
   ]
  },
  {
   "cell_type": "markdown",
   "id": "9e77ab63-9e47-40b0-bb7c-3d33d9bfdfe5",
   "metadata": {},
   "source": [
    "## 2.6 Atomic Prompting (Prompting atomique)\n",
    "\n",
    "Cette technique consiste à décomposer une tâche complexe en \"atomes\" de prompts individuels, chacun ciblant un aspect spécifique du problème.\n",
    "\n",
    "**Exemple :**\n",
    "\n",
    "```txt\n",
    "Tâche globale : Analyser un poème\n",
    "\n",
    "Prompt atomique 1 : Identifie le schéma de rimes dans ce poème.\n",
    "Prompt atomique 2 : Quels sont les principaux thèmes abordés dans ce poème ?\n",
    "Prompt atomique 3 : Identifie et explique trois figures de style utilisées dans ce poème.\n",
    "Prompt atomique 4 : Synthétise les réponses précédentes en une analyse cohérente.\n",
    "```\n",
    "\n",
    "**Exercice 10 :** \n",
    "Choisissez une tâche complexe et décomposez-la en 3-4 prompts atomiques qui, ensemble, aideront à résoudre le problème global."
   ]
  },
  {
   "cell_type": "markdown",
   "id": "2b947885-0d14-4ab4-8343-636047440402",
   "metadata": {},
   "source": [
    "## 2.7 Conseils pratiques et bonnes pratiques\n",
    "\n",
    "### Conseils pour améliorer vos prompts\n",
    "\n",
    "1. **Soyez spécifique** : Plus votre instruction est précise, plus la réponse sera pertinente\n",
    "2. **Itérez** : Raffinez progressivement vos prompts en fonction des résultats\n",
    "3. **Utilisez des délimiteurs** : Séparez clairement les différentes parties de votre prompt\n",
    "4. **Contrôlez la longueur** : Indiquez la longueur ou le niveau de détail souhaité\n",
    "5. **Précisez le format** : Indiquez le format attendu (liste, paragraphes, tableau, etc.)\n",
    "\n",
    "**Exemple avec délimiteurs :**\n",
    "\n",
    "```txt\n",
    "# CONTEXTE\n",
    "Je suis un enseignant préparant un cours sur les énergies renouvelables pour des élèves de lycée.\n",
    "\n",
    "# INSTRUCTION\n",
    "Génère un plan de cours structuré sur l'énergie solaire.\n",
    "\n",
    "# FORMAT SOUHAITÉ\n",
    "- Titre principal\n",
    "- 3 à 4 sections principales\n",
    "- 2 à 3 sous-points par section\n",
    "- 2 idées d'activités pratiques\n",
    "- Durée estimée: cours de 2 heures\n",
    "```"
   ]
  },
  {
   "cell_type": "code",
   "execution_count": null,
   "id": "d6ec129e-4b54-4d10-8839-f18fc7b97598",
   "metadata": {},
   "outputs": [],
   "source": []
  }
 ],
 "metadata": {
  "kernelspec": {
   "display_name": "Python 3 (ipykernel)",
   "language": "python",
   "name": "python3"
  },
  "language_info": {
   "codemirror_mode": {
    "name": "ipython",
    "version": 3
   },
   "file_extension": ".py",
   "mimetype": "text/x-python",
   "name": "python",
   "nbconvert_exporter": "python",
   "pygments_lexer": "ipython3",
   "version": "3.11.6"
  }
 },
 "nbformat": 4,
 "nbformat_minor": 5
}
