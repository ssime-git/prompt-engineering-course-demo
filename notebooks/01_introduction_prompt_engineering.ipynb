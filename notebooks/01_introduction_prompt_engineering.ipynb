{
 "cells": [
  {
   "cell_type": "markdown",
   "id": "d56a42fc-61b5-4f13-8f32-026ab029f46d",
   "metadata": {},
   "source": [
    "# Introduction au Prompt Engineering\n",
    "\n",
    "## 1. Comprendre les modèles de langage et les bases du prompting\n",
    "\n",
    "### 1.1 Qu'est-ce qu'un modèle de langage ?\n",
    "\n",
    "Un modèle de langage est un système d'intelligence artificielle entraîné sur d'énormes quantités de textes pour apprendre les modèles statistiques du langage humain. Ces modèles peuvent générer du texte, répondre à des questions, résumer des informations, traduire des langues, et bien plus encore.\n",
    "\n",
    "Les modèles de langage récents comme `GPT-4`, `Claude` ou `Llama` fonctionnent selon un principe de prédiction : en se basant sur une séquence de mots donnée (le `prompt`), ils extrapolent les mots qui devraient suivre logiquement."
   ]
  },
  {
   "cell_type": "markdown",
   "id": "1f31ff1e-1717-4f4d-b4fd-e563e92c6f66",
   "metadata": {},
   "source": [
    "### 1.2 Qu'est-ce qu'un prompt ?\n",
    "\n",
    "Un prompt est simplement l'entrée textuelle que vous fournissez à un modèle de langage pour obtenir une réponse. C'est comme poser une question ou donner une instruction à l'IA.\n",
    "\n",
    "**Exemple simple :**\n",
    "\n",
    "```txt\n",
    "Explique-moi ce qu'est l'effet de serre en termes simples.\n",
    "```\n",
    "\n",
    "> Charger l'extension `jupyter_ai`, définissez le modèle `llama3.2` par défaut."
   ]
  },
  {
   "cell_type": "code",
   "execution_count": null,
   "id": "c65c9a56-5463-4eed-8c6e-4e11c5f54ed6",
   "metadata": {},
   "outputs": [],
   "source": []
  },
  {
   "cell_type": "code",
   "execution_count": 1,
   "id": "9de6f2a0-5e10-4303-84d2-5ea16871d179",
   "metadata": {
    "jupyter": {
     "source_hidden": true
    }
   },
   "outputs": [],
   "source": [
    "# Load the jupyter_ai_magics extension\n",
    "%load_ext jupyter_ai_magics\n",
    "\n",
    "# define llama3.2 as default\n",
    "%config AiMagics.default_language_model = \"ollama:llama3.2\""
   ]
  },
  {
   "cell_type": "markdown",
   "id": "6047e473-f7e9-475e-af4b-fbe8000bc670",
   "metadata": {},
   "source": [
    "> Utiliser le prompt : `Explique-moi ce qu'est l'effet de serre en termes simples.`"
   ]
  },
  {
   "cell_type": "code",
   "execution_count": null,
   "id": "68718cfa-9d9d-438d-8fa4-cc6453c2019b",
   "metadata": {},
   "outputs": [],
   "source": []
  },
  {
   "cell_type": "code",
   "execution_count": 4,
   "id": "2fd242be-b5a2-4f3c-9456-6a55d65effb6",
   "metadata": {},
   "outputs": [
    {
     "data": {
      "text/markdown": [
       "# L'Effet de Serre Expliqué\n",
       "\n",
       "L'effet de serre est un phénomène naturel qui se produit lorsque les gaz à effet de serre accumulent dans l'atmosphère et réchauffent le climat.\n",
       "\n",
       "### Qu'est-ce que les gaz à effet de serre ?\n",
       "\n",
       "Les gaz à effet de serre sont des substances qui absorbent la chaleur du soleil et la retiennent dans l'atmosphère. Il y en a quelques-uns :\n",
       "\n",
       "*   Le dioxyde de carbone (CO2)\n",
       "*   La méthane (CH4)\n",
       "*   L'acide carbonique (H2CO3)\n",
       "\n",
       "### Comment fonctionne l'effet de serre ?\n",
       "\n",
       "Lorsque les gaz à effet de serre sont libérés dans l'atmosphère, ils absorbent la chaleur du soleil et la retiennent. Cela provoque une augmentation de la température moyenne sur Terre.\n",
       "\n",
       "### Exemples d'effets de serre naturels\n",
       "\n",
       "L'effet de serre se produit également naturellement :\n",
       "\n",
       "*   Les éruptions volcaniques libèrent des gaz à effet de serre dans l'atmosphère\n",
       "*   Les changements climatiques saisonniers, comme le reflux arctique d'hiver et le reflux polaire d'été\n",
       "\n",
       "L'effet de serre naturel est une partie intégrante du cycle climatique de la Terre. Cependant, les activités humaines ont augmenté considérablement les niveaux de dioxyde de carbone dans l'atmosphère, ce qui a des conséquences importantes sur le climat."
      ],
      "text/plain": [
       "<IPython.core.display.Markdown object>"
      ]
     },
     "execution_count": 4,
     "metadata": {
      "text/markdown": {
       "jupyter_ai": {
        "model_id": "llama3.2",
        "provider_id": "ollama"
       }
      }
     },
     "output_type": "execute_result"
    }
   ],
   "source": [
    "%%ai\n",
    "Explique-moi ce qu'est l'effet de serre en termes simples."
   ]
  },
  {
   "cell_type": "markdown",
   "id": "38d3656b-b332-40e4-9cc9-0c6c31f33d3c",
   "metadata": {},
   "source": [
    "Comment trouvez-vous ce prompt ? Est-ce qu'il correspond exactement à ce que vous vouliez / attendiez ?\n",
    "\n",
    "Si ce n'est pas le cas, c'est qu'il est très probable que votre instruction ne soit pas suffisamment détaillée et spécifique. Mais comment améliorer les chose ?"
   ]
  },
  {
   "cell_type": "markdown",
   "id": "eec96f98-0b39-4ee5-bc94-e505b761cef1",
   "metadata": {},
   "source": [
    "### 1.3 Les composants d'un bon prompt\n",
    "\n",
    "Un prompt efficace contient généralement :\n",
    "\n",
    "1. **Instructions claires** : Ce que vous voulez que le modèle fasse\n",
    "2. **Contexte** : Informations pertinentes pour aider le modèle\n",
    "3. **Format souhaité** : Structure de la réponse attendue\n",
    "4. **Exemples** (parfois) : Illustrations de ce que vous attendez\n",
    "5. **Tonalité** (parfois) : Le ton que vous souhaitez voir apparaitre\n",
    "6. **Personnage** (parfois) : Si vous voulez que le modèle se fonde dans la peau d'un personnage pour donner un style bien particulier\n",
    "\n",
    "**Exemple amélioré :**\n",
    "\n",
    "> **Maintenant, utilisez le prompt ci-dessous** et analysez la réponse :\n",
    "> \n",
    "> ```\n",
    "> Explique l'effet de serre en termes simples. \n",
    "> Inclus une analogie que je pourrais utiliser pour l'expliquer à un enfant de 8 ans. \n",
    "> Ta réponse ne doit pas dépasser 5 phrases.\n",
    "> ```"
   ]
  },
  {
   "cell_type": "code",
   "execution_count": null,
   "id": "13159fa4-ae8b-4157-883f-8805da42c174",
   "metadata": {},
   "outputs": [],
   "source": []
  },
  {
   "cell_type": "code",
   "execution_count": 5,
   "id": "0ffa9f6d-eade-42bb-a38b-6248addd439b",
   "metadata": {
    "collapsed": true,
    "jupyter": {
     "outputs_hidden": true
    }
   },
   "outputs": [
    {
     "data": {
      "text/markdown": [
       "# L'Effet de Serre Expliqué\n",
       "\n",
       "L'effet de serre est un phénomène qui se produit lorsque les gaz à effet de serre accumulent dans l'atmosphère et réchauffent le climat.\n",
       "\n",
       "### Analogie\n",
       "\n",
       "Imagine que tu es en train d'enfourner une grande poêle. Le gaz qui sort de la poêle (les gaz à effet de serre) absorbe la chaleur du four et la retient dans l'air. C'est comme ça que fonctionne l'effet de serre : les gaz à effet de serre absorbent la chaleur du soleil et la retiennent dans l'atmosphère, ce qui réchauffe le climat.\n",
       "\n",
       "### Conséquences\n",
       "\n",
       "Lorsque ces gaz accumulent dans l'atmosphère, ils provoquent un changement climatique, causant des tempêtes plus fréquentes ou des inondations. Il est important de réduire les émissions de dioxyde de carbone pour atténuer cet effet.\n",
       "\n",
       "### Exemples\n",
       "\n",
       "Les activités humaines comme la combustion d'essence ou de charbon libèrent des gaz à effet de serre dans l'atmosphère.\n",
       "\n",
       "C'est une réalité qui doit être prise en compte et gérée."
      ],
      "text/plain": [
       "<IPython.core.display.Markdown object>"
      ]
     },
     "execution_count": 5,
     "metadata": {
      "text/markdown": {
       "jupyter_ai": {
        "model_id": "llama3.2",
        "provider_id": "ollama"
       }
      }
     },
     "output_type": "execute_result"
    }
   ],
   "source": [
    "%%ai\n",
    "Explique l'effet de serre en termes simples. \n",
    "Inclus une analogie que je pourrais utiliser pour l'expliquer à un enfant de 8 ans. \n",
    "Ta réponse ne doit pas dépasser 5 phrases."
   ]
  },
  {
   "cell_type": "markdown",
   "id": "4fb78ad6-d33e-4293-b35f-e7a7cc76f693",
   "metadata": {},
   "source": [
    "> **A vous de jouer, essayer d'amméliorer le prompt ci-contre : `Donne-moi trois idées de desserts faciles à préparer.`**"
   ]
  },
  {
   "cell_type": "code",
   "execution_count": null,
   "id": "2a9d6ee3-cb58-4b0e-83d5-bd719b0035c4",
   "metadata": {},
   "outputs": [],
   "source": []
  },
  {
   "cell_type": "code",
   "execution_count": 6,
   "id": "5666c5cb-b80e-4944-8368-f03ac4781517",
   "metadata": {
    "collapsed": true,
    "jupyter": {
     "outputs_hidden": true,
     "source_hidden": true
    }
   },
   "outputs": [
    {
     "data": {
      "text/markdown": [
       "1.  **Fruit de noix** \\*\\*Ingrédients:\\*\\*\n",
       "\n",
       "    *   1 tasse de noix de macadamia ou autres\n",
       "    *   2 cuillères à soupe d'huile d'olive\n",
       "    *   1 cuillère à café de sirop d'érable\n",
       "    *   1 pincée de sel\n",
       "    *   1/4 de tasse de crème liquide ou crème fraîche\n",
       "\n",
       "        **Temps et Instructions:**\n",
       "\n",
       "        Préparez les noix en les faisant cuire dans une casserole avec un peu d'eau pendant 5 minutes. Mélangez-les avec l'huile, le sirop d'érable et le sel.\n",
       "\n",
       "2.  **Glace à la vanille** \\*\\*Ingrédients:\\*\\*\n",
       "\n",
       "    *   1 tasse de crème liquide\n",
       "    *   1 cuillère à café de sucre blanc\n",
       "    *   1/4 cuillère à café de poudre de cannelle\n",
       "\n",
       "        **Temps et Instructions:**\n",
       "\n",
       "        Faites fondre la crème avec du sucre et une petite quantité d'eau dans une casserole, en remuant jusqu'à ce que le sucre ait disparu. Laissez refroidir avant de servir.\n",
       "\n",
       "3.  **Crème de fruits** \\*\\*Ingrédients:\\*\\*\n",
       "\n",
       "    *   1 tasse de crème liquide\n",
       "    *   2 cuillères à soupe de jus d'orange\n",
       "    *   1 cuillère à café de sucre blanc\n",
       "\n",
       "        **Temps et Instructions:**\n",
       "\n",
       "        Mélangez la crème avec le jus d'orange et le sucre dans une casserole. Remuez jusqu'à ce que l'orange soit bien dissous, puis servez à température ambiante."
      ],
      "text/plain": [
       "<IPython.core.display.Markdown object>"
      ]
     },
     "execution_count": 6,
     "metadata": {
      "text/markdown": {
       "jupyter_ai": {
        "model_id": "llama3.2",
        "provider_id": "ollama"
       }
      }
     },
     "output_type": "execute_result"
    }
   ],
   "source": [
    "%%ai\n",
    "Je prépare un dîner pour des amis qui sont pressés par le temps.\n",
    "Donne-moi trois idées de desserts faciles à préparer qui :\n",
    "1. Nécessitent moins de 6 ingrédients\n",
    "2. Se préparent en moins de 20 minutes\n",
    "3. Ne nécessitent pas de four\n",
    "\n",
    "Pour chaque dessert, liste les ingrédients nécessaires, le temps de préparation et une courte instruction en une phrase.\n",
    "Format ta réponse sous forme de liste numérotée."
   ]
  },
  {
   "cell_type": "markdown",
   "id": "0bacc838-558f-42af-9878-c980f3c46b06",
   "metadata": {},
   "source": [
    "Comment trouvez-vous le résultat ?\n",
    "\n",
    "N'oubliez pas que vous pouvez toujours l'améliorer davantage et que le prompt ci-dessus n'est en aucun cas **le prompt** à utiliser à chaque fois."
   ]
  },
  {
   "cell_type": "markdown",
   "id": "6ab9cf87-8fed-4bdd-9413-017bba03ed42",
   "metadata": {},
   "source": [
    "### 1.3 Bonnes pratiques\n",
    "\n",
    "#### Commencer Simple\n",
    "\n",
    "Lorsque vous débutez dans la conception de prompts, gardez à l’esprit qu’il s’agit d’un **processus itératif** nécessitant de nombreuses expérimentations.\n",
    "\n",
    "- Utilisez un outil simple comme le *Playground* d’OpenAI ou Cohere.\n",
    "- Commencez avec un prompt simple, puis ajoutez du contexte au fur et à mesure.\n",
    "- La spécificité, la simplicité et la concision donnent souvent de meilleurs résultats.\n",
    "- En cas de tâche complexe, découpez-la en sous-tâches plus simples.\n",
    "\n",
    "\n",
    "#### L'Instruction\n",
    "\n",
    "Utilisez des **verbes d’action clairs** pour guider le modèle :  \n",
    "`Écris`, `Classe`, `Résume`, `Traduis`, `Ordonne`, etc.\n",
    "\n",
    "##### Bonnes pratiques\n",
    "\n",
    "- Expérimentez différents mots-clés, contextes et structures.\n",
    "- Placez l’instruction au début du prompt.\n",
    "- Utilisez un séparateur clair (`###`) pour distinguer l’instruction du contexte.\n",
    "\n",
    "##### Exemple\n",
    "\n",
    "```markdown\n",
    "### Instruction ###\n",
    "Traduis le texte ci-dessous en espagnol :\n",
    "Texte : \"hello!\"\n",
    "\n",
    "### Réponse ###\n",
    "¡Hola!\n",
    "```\n",
    "\n",
    "\n",
    "#### Spécificité\n",
    "\n",
    "Un prompt descriptif et précis produit généralement de meilleurs résultats.\n",
    "\n",
    "**Conseils:**\n",
    "* Fournissez des exemples si un format précis est attendu.\n",
    "* Faites attention à la longueur du prompt (évitez les détails superflus).\n",
    "* Assurez-vous que chaque détail sert la tâche demandée.\n",
    "\n",
    "**Exemple:**\n",
    "\n",
    "> Prompt : `Extrait le nom des lieux dans le texte suivant.`\n",
    "> \n",
    "> Format souhaité :\n",
    "> \n",
    "> Lieu : `<liste_de_lieux_séparés_par_des_virgules>`\n",
    "> \n",
    "> Texte : \"Henrique Veiga-Fernandes, neuroimmunologiste au Centre Champalimaud pour l’Inconnu à Lisbonne.\"\n",
    "\n",
    "**Réponse :**\n",
    "> Lieu : Centre Champalimaud pour l’Inconnu, Lisbonne\n",
    "\n",
    "\n",
    "#### Éviter l’Imprécision\n",
    "\n",
    "Il vaut mieux être simple et direct que vague ou trop abstrait.\n",
    "\n",
    "**Exemple:**\n",
    "\n",
    "> * Prompt flou : `Explique le concept de prompt engineering. Reste bref, sans trop de détails.`\n",
    "> * Prompt amélioré : `Explique le concept de prompt engineering en 2-3 phrases, comme si tu t’adressais à un lycéen.`\n",
    "\n",
    "#### Formulation Positive\n",
    "\n",
    "Évitez de formuler vos consignes en disant ce qu’il ne faut pas faire. Préférez indiquer ce qu’il faut faire.\n",
    "\n",
    "**Exemple:**\n",
    "\n",
    "```markdown\n",
    "Mauvais prompt : `L’agent recommande des films. NE DEMANDE PAS les préférences ni les infos personnelles.\n",
    "Client : Recommandez-moi un film.\n",
    "\n",
    "\n",
    "Meilleur prompt : L’agent recommande un film parmi les plus populaires dans le monde. Il ne doit pas demander les préférences ni d’informations personnelles.  \n",
    "S’il n’a rien à recommander, il répond : \"Désolé, je n’ai aucun film à recommander aujourd’hui.\"\n",
    "Client : Recommandez-moi un film.\n",
    "\n",
    "Réponse attendue\n",
    "\n",
    "Voici une sélection des films les plus populaires actuellement : [liste de films].\n",
    "\n",
    "\n",
    "\n",
    "\n"
   ]
  },
  {
   "cell_type": "markdown",
   "id": "fa8a0cb8-db2d-4ba2-9ae8-219317461c47",
   "metadata": {},
   "source": [
    "Résumé\n",
    "\t•\tCommencez simple, puis complexifiez avec des itérations.\n",
    "\t•\tSoyez spécifique, structuré et concis.\n",
    "\t•\tPréférez la formulation positive et donnez des exemples.\n",
    "\t•\tExpérimentez et ajustez régulièrement selon vos objectifs."
   ]
  }
 ],
 "metadata": {
  "kernelspec": {
   "display_name": "Python 3 (ipykernel)",
   "language": "python",
   "name": "python3"
  },
  "language_info": {
   "codemirror_mode": {
    "name": "ipython",
    "version": 3
   },
   "file_extension": ".py",
   "mimetype": "text/x-python",
   "name": "python",
   "nbconvert_exporter": "python",
   "pygments_lexer": "ipython3",
   "version": "3.11.6"
  }
 },
 "nbformat": 4,
 "nbformat_minor": 5
}
