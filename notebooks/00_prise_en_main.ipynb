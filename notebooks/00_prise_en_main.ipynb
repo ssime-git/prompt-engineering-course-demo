{
 "cells": [
  {
   "cell_type": "markdown",
   "metadata": {},
   "source": [
    "# Prise en main de `jupyter_ai` avec `ollama`"
   ]
  },
  {
   "cell_type": "markdown",
   "metadata": {},
   "source": [
    "On commence par charger l'extension pour être en mesure de l'utiliser."
   ]
  },
  {
   "cell_type": "code",
   "execution_count": 4,
   "metadata": {},
   "outputs": [
    {
     "name": "stdout",
     "output_type": "stream",
     "text": [
      "The jupyter_ai_magics extension is already loaded. To reload it, use:\n",
      "  %reload_ext jupyter_ai_magics\n"
     ]
    }
   ],
   "source": [
    "# Load the jupyter_ai_magics extension\n",
    "%load_ext jupyter_ai_magics"
   ]
  },
  {
   "cell_type": "markdown",
   "metadata": {},
   "source": [
    "Permet de vérifier que l'extension fonctionne correctement."
   ]
  },
  {
   "cell_type": "code",
   "execution_count": 5,
   "metadata": {},
   "outputs": [
    {
     "data": {
      "text/markdown": [
       "| Provider | Environment variable | Set? | Models |\n",
       "|----------|----------------------|------|--------|\n",
       "| `ollama` | Not applicable. | <abbr title=\"Not applicable\">N/A</abbr> | See [https://www.ollama.com/library](https://www.ollama.com/library) for a list of models. Pass a model's name; for example, `deepseek-coder-v2`. |\n"
      ],
      "text/plain": [
       "ollama\n",
       "* See [https://www.ollama.com/library](https://www.ollama.com/library) for a list of models. Pass a model's name; for example, `deepseek-coder-v2`.\n",
       "\n"
      ]
     },
     "execution_count": 5,
     "metadata": {},
     "output_type": "execute_result"
    }
   ],
   "source": [
    "# Check available AI models\n",
    "%ai list ollama"
   ]
  },
  {
   "cell_type": "markdown",
   "metadata": {},
   "source": [
    "## Utilisation de l'extension"
   ]
  },
  {
   "cell_type": "markdown",
   "metadata": {},
   "source": [
    "La syntaxe générale pour utiliser l'extension est la suivante :\n",
    "\n",
    "```txt\n",
    "%%ai <provider>:<model-name>\n",
    "<prompt>\n",
    "```\n",
    "\n",
    "* `provider` : nom du fournisseur du modèle. On va utiliser ici `ollama` mais vous êtes tout à fait libre  d'utiliser un autre fournisseur comme `openai`, `Anthropic`, etc.\n",
    "*  `model-name` : le nom du modèle.\n",
    "*  `prompt` : l'instruction à passer au modèle."
   ]
  },
  {
   "cell_type": "code",
   "execution_count": 7,
   "metadata": {},
   "outputs": [
    {
     "data": {
      "text/markdown": [
       "Le **prompt engineering** est un processus de rédaction et d'amélioration des instructions pour les modèles de langage artificiels, permettant de obtenir des résultats plus précis et pertinents."
      ],
      "text/plain": [
       "<IPython.core.display.Markdown object>"
      ]
     },
     "execution_count": 7,
     "metadata": {
      "text/markdown": {
       "jupyter_ai": {
        "model_id": "llama3.2",
        "provider_id": "ollama"
       }
      }
     },
     "output_type": "execute_result"
    }
   ],
   "source": [
    "%%ai ollama:llama3.2\n",
    "Décrire simplement le prompt engineering en une phrase"
   ]
  },
  {
   "cell_type": "markdown",
   "metadata": {},
   "source": [
    "Spécifier le nom du modèle peut être fastidieux à la longue. Il est possible de définir un modèle par défaut."
   ]
  },
  {
   "cell_type": "code",
   "execution_count": 8,
   "metadata": {},
   "outputs": [],
   "source": [
    "%config AiMagics.default_language_model = \"ollama:llama3.2\""
   ]
  },
  {
   "cell_type": "code",
   "execution_count": 9,
   "metadata": {},
   "outputs": [
    {
     "data": {
      "text/markdown": [
       "# Composants d'un bon prompt pour les modèles de langage artificiels\n",
       "\n",
       "*   **Clarté** : Le prompt doit être facile à comprendre et à interpréter.\n",
       "*   **Précision** : Il faut spécifier exactement ce que l'on veut obtenir du modèle de langage.\n",
       "*   **Contexte** : Le prompt doit fournir le contexte approprié pour la question ou la tâche à accomplir.\n",
       "*   **Format** : Utiliser un format cohérent, tel que markdown, pour faciliter la lecture et la compréhension.\n",
       "*   **Brevet** : Les prompts doivent être courts et concis pour éviter les erreurs de compréhension."
      ],
      "text/plain": [
       "<IPython.core.display.Markdown object>"
      ]
     },
     "execution_count": 9,
     "metadata": {
      "text/markdown": {
       "jupyter_ai": {
        "model_id": "llama3.2",
        "provider_id": "ollama"
       }
      }
     },
     "output_type": "execute_result"
    }
   ],
   "source": [
    "%%ai\n",
    "Quels sont les composants d'un bon prompt pour les\n",
    "modèles de langage ?"
   ]
  },
  {
   "cell_type": "markdown",
   "metadata": {},
   "source": [
    "On peut voir que le modèle utilisé (ici `llama3.2` n'est pas très performant en français. Essayons autre chose."
   ]
  },
  {
   "cell_type": "code",
   "execution_count": 15,
   "metadata": {},
   "outputs": [],
   "source": [
    "text = \"\"\"\n",
    "Le contexte\n",
    "La tâche\n",
    "Le persona\n",
    "Le format de sortie\n",
    "La tonalité\n",
    "etc.\n",
    "\"\"\""
   ]
  },
  {
   "cell_type": "code",
   "execution_count": 16,
   "metadata": {},
   "outputs": [
    {
     "data": {
      "text/markdown": [
       "# Composantes d'un prompt\n",
       "\n",
       "*   **Contexte** : Le contexte dans lequel le modèle de langage doit fonctionner.\n",
       "*   **Tâche** : L'objet ou la tâche à accomplir avec le modèle de langage.\n",
       "*   **Persona** : Le persona ou l'utilisateur cible que le modèle de langage doit simuler.\n",
       "*   **Format de sortie** : Le format de sortie attendu par le modèle de langage (par exemple, texte, liste, etc.).\n",
       "*   **Tonalité** : La tonalité ou le niveau d'formulé que le modèle de langage doit adopter.\n",
       "*   **Contraintes** : Les contraintes ou les limites à prendre en compte lors de la réponse."
      ],
      "text/plain": [
       "<IPython.core.display.Markdown object>"
      ]
     },
     "execution_count": 16,
     "metadata": {
      "text/markdown": {
       "jupyter_ai": {
        "model_id": "llama3.2",
        "provider_id": "ollama"
       }
      }
     },
     "output_type": "execute_result"
    }
   ],
   "source": [
    "%%ai\n",
    "Quels sont les 6 composantes d'un prompt\n",
    "Tu as quelques éléments dans ce text {text}"
   ]
  },
  {
   "cell_type": "markdown",
   "metadata": {},
   "source": [
    "Les petits modèles de langage ont une connaissance limitée et donc une forte tendance à halluciner."
   ]
  },
  {
   "cell_type": "markdown",
   "metadata": {},
   "source": [
    "## Les autres fonctionnalités de `jupyter_ai`"
   ]
  },
  {
   "cell_type": "code",
   "execution_count": 18,
   "metadata": {},
   "outputs": [
    {
     "data": {
      "text/html": [
       "AI generated code inserted below &#11015;&#65039;"
      ],
      "text/plain": [
       "<IPython.core.display.HTML object>"
      ]
     },
     "execution_count": 18,
     "metadata": {
      "text/html": {
       "jupyter_ai": {
        "model_id": "llama3.2",
        "provider_id": "ollama"
       }
      }
     },
     "output_type": "execute_result"
    }
   ],
   "source": [
    "%%ai -f code\n",
    "Ecrire une fonction qui additionne 2 nombres\n",
    "Inclure un exemple d'utilisation"
   ]
  },
  {
   "cell_type": "code",
   "execution_count": 19,
   "metadata": {},
   "outputs": [
    {
     "name": "stdout",
     "output_type": "stream",
     "text": [
      "12\n"
     ]
    }
   ],
   "source": [
    "def addition(x, y):\n",
    "    return x + y\n",
    "\n",
    "# Exemple d'utilisation :\n",
    "resultat = addition(5, 7)\n",
    "print(resultat)  # Affiche la valeur de résultat"
   ]
  },
  {
   "cell_type": "markdown",
   "metadata": {},
   "source": [
    "On peut voir que le code fonctionne correctement.\n",
    "\n",
    "On peut aller plus loin en demandant au modèle d'expliquer le code et plus généralement la syntaxe Python"
   ]
  },
  {
   "cell_type": "code",
   "execution_count": 22,
   "metadata": {},
   "outputs": [
    {
     "data": {
      "text/markdown": [
       "**Exemple de code Python**\n",
       "=========================\n",
       "\n",
       "### Fonction `addition`\n",
       "\n",
       "*   `def` est l'élément qui commence une définition de fonction en Python.\n",
       "*   `addition` est le nom de la fonction.\n",
       "\n",
       "### Paramètres\n",
       "\n",
       "*   La fonction prend deux paramètres : `x` et `y`. Ces paramètres ne sont pas typés, ce qui peut entraîner des erreurs si nous utilisons les valeurs incorrectes.\n",
       "\n",
       "```python\n",
       "def addition(x: int, y: int) -> int:\n",
       "    \"\"\"\n",
       "    Additionne deux nombres entiers et renvoie le résultat.\n",
       "\n",
       "    Args:\n",
       "        x (int): Le premier nombre à ajouter.\n",
       "        y (int): Le second nombre à ajouter.\n",
       "\n",
       "    Returns:\n",
       "        int: La somme de x et y.\n",
       "    \"\"\"\n",
       "    return x + y\n",
       "```\n",
       "\n",
       "### Exemple d'utilisation\n",
       "\n",
       "*   `resultat` est une variable qui stocke le résultat de l'appel à la fonction `addition`.\n",
       "*   Nous utilisons un style de documentation Python (`\"\"\"`) pour fournir des informations supplémentaires sur la fonction.\n",
       "\n",
       "```python\n",
       "# Exemple d'utilisation :\n",
       "resultat = addition(5, 7)\n",
       "print(resultat)  # Affiche la valeur de résultat\n",
       "```\n",
       "\n",
       "### Sortie attendue\n",
       "\n",
       "*   L'expression `return x + y` renvoie le résultat de l'opération entre `x` et `y`.\n",
       "\n",
       "```markdown\n",
       "# Sortie attendue :\n",
       "12\n",
       "```\n",
       "\n",
       "**Meilleures pratiques**\n",
       "\n",
       "*   Utiliser des types de données pour les paramètres pour améliorer la sécurité et faciliter la maintenance du code.\n",
       "*   Utiliser un style de documentation Python (`\"\"\"`) pour fournir des informations supplémentaires sur les fonctions et les modules.\n",
       "\n",
       "**Code complet**\n",
       "-----------------\n",
       "\n",
       "```python\n",
       "def addition(x: int, y: int) -> int:\n",
       "    \"\"\"\n",
       "    Additionne deux nombres entiers et renvoie le résultat.\n",
       "\n",
       "    Args:\n",
       "        x (int): Le premier nombre à ajouter.\n",
       "        y (int): Le second nombre à ajouter.\n",
       "\n",
       "    Returns:\n",
       "        int: La somme de x et y.\n",
       "    \"\"\"\n",
       "    return x + y\n",
       "\n",
       "# Exemple d'utilisation :\n",
       "resultat = addition(5, 7)\n",
       "print(resultat)  # Affiche la valeur de résultat\n",
       "```\n",
       "\n",
       "**Conclusion**\n",
       "--------------\n",
       "\n",
       "Cette exemple nous montre comment créer une fonction simple pour l'addition en Python. Les meilleures pratiques et les conventions de code utilisées dans cet exemple peuvent aider à améliorer la qualité et la maintenance du code."
      ],
      "text/plain": [
       "<IPython.core.display.Markdown object>"
      ]
     },
     "execution_count": 22,
     "metadata": {
      "text/markdown": {
       "jupyter_ai": {
        "model_id": "llama3.2",
        "provider_id": "ollama"
       }
      }
     },
     "output_type": "execute_result"
    }
   ],
   "source": [
    "%%ai\n",
    "Expliquer la syntaxe python du code ci-dessous pour un débutant en python. Inclure des bonnes pratiques et convention de code\n",
    "--\n",
    "{In[19]}"
   ]
  },
  {
   "cell_type": "markdown",
   "metadata": {},
   "source": [
    "Essayons maintenant un code en Python non fonctionnel."
   ]
  },
  {
   "cell_type": "code",
   "execution_count": 23,
   "metadata": {},
   "outputs": [
    {
     "ename": "IndexError",
     "evalue": "list index out of range",
     "output_type": "error",
     "traceback": [
      "\u001b[0;31m---------------------------------------------------------------------------\u001b[0m",
      "\u001b[0;31mIndexError\u001b[0m                                Traceback (most recent call last)",
      "Cell \u001b[0;32mIn[23], line 5\u001b[0m\n\u001b[1;32m      2\u001b[0m liste \u001b[38;5;241m=\u001b[39m [\u001b[38;5;241m1\u001b[39m, \u001b[38;5;241m2\u001b[39m, \u001b[38;5;241m3\u001b[39m]\n\u001b[1;32m      4\u001b[0m \u001b[38;5;66;03m# récupération du dernier élément de la liste\u001b[39;00m\n\u001b[0;32m----> 5\u001b[0m \u001b[43mliste\u001b[49m\u001b[43m[\u001b[49m\u001b[38;5;28;43mlen\u001b[39;49m\u001b[43m(\u001b[49m\u001b[43mliste\u001b[49m\u001b[43m)\u001b[49m\u001b[43m]\u001b[49m\n",
      "\u001b[0;31mIndexError\u001b[0m: list index out of range"
     ]
    }
   ],
   "source": [
    "# creation d'une liste\n",
    "liste = [1, 2, 3]\n",
    "\n",
    "# récupération du dernier élément de la liste\n",
    "liste[len(liste)]"
   ]
  },
  {
   "cell_type": "code",
   "execution_count": 24,
   "metadata": {},
   "outputs": [
    {
     "data": {
      "text/markdown": [
       "**Erreur d'IndexError**\n",
       "=====================\n",
       "\n",
       "L'erreur `IndexError` est déclenchée lorsque vous essayez d'accéder à un élément d'une liste en utilisant une position qui n'existe pas.\n",
       "\n",
       "### Explication de l'erreur\n",
       "\n",
       "Dans cet exemple, nous créons une liste avec trois éléments : `[1, 2, 3]`. Lorsque nous utilisons la syntaxe `liste[len(liste)]`, nous essayons d'accéder à l'élément du dernier index de la liste.\n",
       "\n",
       "Cependant, si nous avons seulement deux éléments dans la liste (à savoir les indices 0 et 1), alors `len(liste)` renvoie la valeur `2`. Ensuite, lorsque nous essayons d'accéder au troisième élément (`liste[2]`), Python nous dit que c'est une erreur car l'index `2` n'existe pas dans la liste.\n",
       "\n",
       "**Erreurs possibles**\n",
       "-------------------\n",
       "\n",
       "*   **Index out of range**: L'erreur la plus courante est lorsque vous essayez d'accéder à un élément avec une position qui n'existe pas.\n",
       "*   **TypeError**: On peut rencontrer également des erreurs `TypeError` si le type de données utilisé pour l'index n'est pas compatible avec le type de données utilisé dans la liste.\n",
       "\n",
       "### Correction\n",
       "----------------\n",
       "\n",
       "Pour éviter cette erreur, vous pouvez vérifier si la position indexée est valide avant d'essayer d'accéder à l'élément :\n",
       "\n",
       "```markdown\n",
       "# Correction :\n",
       "if len(liste) > 0:\n",
       "    print(liste[len(liste)])\n",
       "else:\n",
       "    print(\"La liste est vide.\")\n",
       "```\n",
       "\n",
       "Dans cet exemple, nous vérifions si la longueur de la liste est supérieure à zéro avant d'essayer d'accéder au dernier élément. Si la liste est vide, nous affichons un message de erreur.\n",
       "\n",
       "**Exemple complet**\n",
       "-----------------\n",
       "\n",
       "```python\n",
       "liste = [1, 2, 3]\n",
       "\n",
       "# Vérification si la liste n'est pas vide\n",
       "if len(liste) > 0:\n",
       "    # Récupération du dernier élément\n",
       "    print(liste[len(liste)])\n",
       "else:\n",
       "    # Message d'erreur si la liste est vide\n",
       "    print(\"La liste est vide.\")\n",
       "```\n",
       "\n",
       "**Conclusion**\n",
       "--------------\n",
       "\n",
       "L'erreur `IndexError` peut être évitée en vérifiant si le position indexée est valide avant d'essayer d'accéder à l'élément."
      ],
      "text/plain": [
       "<IPython.core.display.Markdown object>"
      ]
     },
     "execution_count": 24,
     "metadata": {
      "text/markdown": {
       "jupyter_ai": {
        "model_id": "llama3.2",
        "provider_id": "ollama"
       }
      }
     },
     "output_type": "execute_result"
    }
   ],
   "source": [
    "%%ai\n",
    "expliquer l'erreur ci-dessous:\n",
    "--\n",
    "{Err[23]}"
   ]
  },
  {
   "cell_type": "markdown",
   "metadata": {},
   "source": [
    "L'explication est pertinente mais le modèle n'a pas eu toutes les informations concernant le contexte."
   ]
  },
  {
   "cell_type": "code",
   "execution_count": 25,
   "metadata": {},
   "outputs": [
    {
     "data": {
      "text/html": [
       "AI generated code inserted below &#11015;&#65039;"
      ],
      "text/plain": [
       "<IPython.core.display.HTML object>"
      ]
     },
     "execution_count": 25,
     "metadata": {
      "text/html": {
       "jupyter_ai": {
        "model_id": "llama3.2",
        "provider_id": "ollama"
       }
      }
     },
     "output_type": "execute_result"
    }
   ],
   "source": [
    "%%ai --format code\n",
    "The following Python code:\n",
    "--\n",
    "{In[23]}\n",
    "--\n",
    "produced the following Python error:\n",
    "--\n",
    "{Err[23]}\n",
    "--\n",
    "Write a new version of this code that does not produce that error."
   ]
  },
  {
   "cell_type": "code",
   "execution_count": null,
   "metadata": {},
   "outputs": [],
   "source": [
    "# creation d'une liste\n",
    "liste = [1, 2, 3]\n",
    "\n",
    "# récupération du dernier élément de la liste\n",
    "last_element_index = len(liste) - 1\n",
    "print(liste[last_element_index])"
   ]
  },
  {
   "cell_type": "markdown",
   "metadata": {},
   "source": [
    "Pour aller plus loin, consulter [ce site](https://jupyter-ai.readthedocs.io/en/latest/users/index.html#configuration)"
   ]
  },
  {
   "cell_type": "code",
   "execution_count": null,
   "metadata": {},
   "outputs": [],
   "source": []
  }
 ],
 "metadata": {
  "kernelspec": {
   "display_name": "Python 3 (ipykernel)",
   "language": "python",
   "name": "python3"
  },
  "language_info": {
   "codemirror_mode": {
    "name": "ipython",
    "version": 3
   },
   "file_extension": ".py",
   "mimetype": "text/x-python",
   "name": "python",
   "nbconvert_exporter": "python",
   "pygments_lexer": "ipython3",
   "version": "3.11.6"
  }
 },
 "nbformat": 4,
 "nbformat_minor": 4
}
